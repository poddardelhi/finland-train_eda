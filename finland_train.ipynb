{
  "nbformat": 4,
  "nbformat_minor": 0,
  "metadata": {
    "colab": {
      "name": "finland-train.ipynb",
      "provenance": [],
      "collapsed_sections": [],
      "toc_visible": true,
      "include_colab_link": true
    },
    "kernelspec": {
      "display_name": "Python 3",
      "language": "python",
      "name": "python3"
    },
    "language_info": {
      "codemirror_mode": {
        "name": "ipython",
        "version": 3
      },
      "file_extension": ".py",
      "mimetype": "text/x-python",
      "name": "python",
      "nbconvert_exporter": "python",
      "pygments_lexer": "ipython3",
      "version": "3.7.6"
    }
  },
  "cells": [
    {
      "cell_type": "markdown",
      "metadata": {
        "id": "view-in-github",
        "colab_type": "text"
      },
      "source": [
        "<a href=\"https://colab.research.google.com/github/poddardelhi/finland_train_eda/blob/main/finland_train.ipynb\" target=\"_parent\"><img src=\"https://colab.research.google.com/assets/colab-badge.svg\" alt=\"Open In Colab\"/></a>"
      ]
    },
    {
      "cell_type": "code",
      "metadata": {
        "id": "gA_vQZBiVM95"
      },
      "source": [
        "# Jovian Commit Essentials\n",
        "# Please retain and execute this cell without modifying the contents for `jovian.commit` to work\n",
        "!pip install jovian --upgrade -q\n",
        "import jovian\n",
        "jovian.set_project('finland-train')\n",
        "jovian.set_colab_id('1dvIeWT_wqfFn2FtxhWW9Zv6hoWoRBtSw')"
      ],
      "execution_count": null,
      "outputs": []
    },
    {
      "cell_type": "markdown",
      "metadata": {
        "id": "rHaGQwNnB4t0"
      },
      "source": [
        "#Finland Train Data\n"
      ]
    },
    {
      "cell_type": "code",
      "metadata": {
        "colab": {
          "base_uri": "https://localhost:8080/",
          "height": 103
        },
        "id": "67PSQ_d-BIf3",
        "outputId": "33ee705f-6806-4af5-e61d-dedae79da3e9"
      },
      "source": [
        "# Execute this to save new versions of the notebook\n",
        "jovian.commit(project=\"finland-train\")"
      ],
      "execution_count": null,
      "outputs": [
        {
          "output_type": "stream",
          "text": [
            "[jovian] Detected Colab notebook...\u001b[0m\n",
            "[jovian] Uploading colab notebook to Jovian...\u001b[0m\n",
            "[jovian] Capturing environment..\u001b[0m\n",
            "[jovian] Committed successfully! https://jovian.ai/poddardelhi/finland-train\u001b[0m\n"
          ],
          "name": "stdout"
        },
        {
          "output_type": "execute_result",
          "data": {
            "application/vnd.google.colaboratory.intrinsic+json": {
              "type": "string"
            },
            "text/plain": [
              "'https://jovian.ai/poddardelhi/finland-train'"
            ]
          },
          "metadata": {
            "tags": []
          },
          "execution_count": 151
        }
      ]
    },
    {
      "cell_type": "code",
      "metadata": {
        "colab": {
          "base_uri": "https://localhost:8080/"
        },
        "id": "s7R0ulq0Ch2J",
        "outputId": "f8c62e8f-8133-4777-c1a0-d67afc21443c"
      },
      "source": [
        "from google.colab import drive\n",
        "drive.mount('/content/drive')"
      ],
      "execution_count": null,
      "outputs": [
        {
          "output_type": "stream",
          "text": [
            "Mounted at /content/drive\n"
          ],
          "name": "stdout"
        }
      ]
    },
    {
      "cell_type": "code",
      "metadata": {
        "id": "qEtxJc41ClpV"
      },
      "source": [
        "import numpy as np \n",
        "import pandas as pd \n",
        "import datetime as dtm\n",
        "import seaborn as sns\n",
        "import matplotlib.pyplot as plt\n",
        "import sqlalchemy"
      ],
      "execution_count": null,
      "outputs": []
    },
    {
      "cell_type": "markdown",
      "metadata": {
        "id": "0PJ2EEDzCyIK"
      },
      "source": [
        "## Loading the CSV file"
      ]
    },
    {
      "cell_type": "code",
      "metadata": {
        "id": "ZFsN2vz7Cxk_"
      },
      "source": [
        "data= pd.read_csv(\"/content/drive/MyDrive/Jovian/solita_training/train-27-data-2020-01-01_to_2020-02-29.csv\")"
      ],
      "execution_count": null,
      "outputs": []
    },
    {
      "cell_type": "markdown",
      "metadata": {
        "id": "T5q1G5mP6ktk"
      },
      "source": [
        "## Creating database (second way)"
      ]
    },
    {
      "cell_type": "code",
      "metadata": {
        "id": "wnv0DKIy6r5x"
      },
      "source": [
        "db = sqlalchemy.create_engine('sqlite:///timeseries.db')"
      ],
      "execution_count": null,
      "outputs": []
    },
    {
      "cell_type": "code",
      "metadata": {
        "id": "oAzahNWJ7VVc"
      },
      "source": [
        "data.to_sql('timeseries',db,if_exists=\"replace\")"
      ],
      "execution_count": null,
      "outputs": []
    },
    {
      "cell_type": "markdown",
      "metadata": {
        "id": "eFcIoB-m77gY"
      },
      "source": [
        "##EDA"
      ]
    },
    {
      "cell_type": "code",
      "metadata": {
        "colab": {
          "base_uri": "https://localhost:8080/",
          "height": 224
        },
        "id": "bY9wm16gDKS5",
        "outputId": "42734ea0-254c-47bd-ea83-f666e3b2a43e"
      },
      "source": [
        "data.head()"
      ],
      "execution_count": null,
      "outputs": [
        {
          "output_type": "execute_result",
          "data": {
            "text/html": [
              "<div>\n",
              "<style scoped>\n",
              "    .dataframe tbody tr th:only-of-type {\n",
              "        vertical-align: middle;\n",
              "    }\n",
              "\n",
              "    .dataframe tbody tr th {\n",
              "        vertical-align: top;\n",
              "    }\n",
              "\n",
              "    .dataframe thead th {\n",
              "        text-align: right;\n",
              "    }\n",
              "</style>\n",
              "<table border=\"1\" class=\"dataframe\">\n",
              "  <thead>\n",
              "    <tr style=\"text-align: right;\">\n",
              "      <th></th>\n",
              "      <th>cancelled</th>\n",
              "      <th>commuterLineID</th>\n",
              "      <th>departureDate</th>\n",
              "      <th>operatorShortCode</th>\n",
              "      <th>operatorUICCode</th>\n",
              "      <th>runningCurrently</th>\n",
              "      <th>timetableAcceptanceDate</th>\n",
              "      <th>timetableType</th>\n",
              "      <th>trainCategory</th>\n",
              "      <th>trainNumber</th>\n",
              "      <th>trainType</th>\n",
              "      <th>version</th>\n",
              "      <th>timeTableRows_actualTime</th>\n",
              "      <th>timeTableRows_cancelled</th>\n",
              "      <th>timeTableRows_causes</th>\n",
              "      <th>timeTableRows_commercialStop</th>\n",
              "      <th>timeTableRows_commercialTrack</th>\n",
              "      <th>timeTableRows_countryCode</th>\n",
              "      <th>timeTableRows_differenceInMinutes</th>\n",
              "      <th>timeTableRows_estimateSource</th>\n",
              "      <th>timeTableRows_liveEstimateTime</th>\n",
              "      <th>timeTableRows_scheduledTime</th>\n",
              "      <th>timeTableRows_stationShortCode</th>\n",
              "      <th>timeTableRows_stationUICCode</th>\n",
              "      <th>timeTableRows_trainReady</th>\n",
              "      <th>timeTableRows_trainReady_accepted</th>\n",
              "      <th>timeTableRows_trainReady_source</th>\n",
              "      <th>timeTableRows_trainReady_timestamp</th>\n",
              "      <th>timeTableRows_trainStopping</th>\n",
              "      <th>timeTableRows_type</th>\n",
              "    </tr>\n",
              "  </thead>\n",
              "  <tbody>\n",
              "    <tr>\n",
              "      <th>0</th>\n",
              "      <td>False</td>\n",
              "      <td>NaN</td>\n",
              "      <td>2020-01-01</td>\n",
              "      <td>vr</td>\n",
              "      <td>10</td>\n",
              "      <td>False</td>\n",
              "      <td>2019-11-08T10:34:22.000Z</td>\n",
              "      <td>REGULAR</td>\n",
              "      <td>Long-distance</td>\n",
              "      <td>27</td>\n",
              "      <td>IC</td>\n",
              "      <td>266086366790</td>\n",
              "      <td>2020-01-01T12:24:58.000Z</td>\n",
              "      <td>False</td>\n",
              "      <td>[]</td>\n",
              "      <td>True</td>\n",
              "      <td>7.0</td>\n",
              "      <td>FI</td>\n",
              "      <td>1</td>\n",
              "      <td>NaN</td>\n",
              "      <td>NaN</td>\n",
              "      <td>2020-01-01T12:24:00.000Z</td>\n",
              "      <td>HKI</td>\n",
              "      <td>1</td>\n",
              "      <td>NaN</td>\n",
              "      <td>True</td>\n",
              "      <td>KUPLA</td>\n",
              "      <td>2020-01-01T12:23:16.000Z</td>\n",
              "      <td>True</td>\n",
              "      <td>DEPARTURE</td>\n",
              "    </tr>\n",
              "    <tr>\n",
              "      <th>1</th>\n",
              "      <td>False</td>\n",
              "      <td>NaN</td>\n",
              "      <td>2020-01-01</td>\n",
              "      <td>vr</td>\n",
              "      <td>10</td>\n",
              "      <td>False</td>\n",
              "      <td>2019-11-08T10:34:22.000Z</td>\n",
              "      <td>REGULAR</td>\n",
              "      <td>Long-distance</td>\n",
              "      <td>27</td>\n",
              "      <td>IC</td>\n",
              "      <td>266086366790</td>\n",
              "      <td>2020-01-01T12:30:53.000Z</td>\n",
              "      <td>False</td>\n",
              "      <td>[]</td>\n",
              "      <td>True</td>\n",
              "      <td>3.0</td>\n",
              "      <td>FI</td>\n",
              "      <td>2</td>\n",
              "      <td>NaN</td>\n",
              "      <td>NaN</td>\n",
              "      <td>2020-01-01T12:29:00.000Z</td>\n",
              "      <td>PSL</td>\n",
              "      <td>10</td>\n",
              "      <td>NaN</td>\n",
              "      <td>NaN</td>\n",
              "      <td>NaN</td>\n",
              "      <td>NaN</td>\n",
              "      <td>True</td>\n",
              "      <td>ARRIVAL</td>\n",
              "    </tr>\n",
              "    <tr>\n",
              "      <th>2</th>\n",
              "      <td>False</td>\n",
              "      <td>NaN</td>\n",
              "      <td>2020-01-01</td>\n",
              "      <td>vr</td>\n",
              "      <td>10</td>\n",
              "      <td>False</td>\n",
              "      <td>2019-11-08T10:34:22.000Z</td>\n",
              "      <td>REGULAR</td>\n",
              "      <td>Long-distance</td>\n",
              "      <td>27</td>\n",
              "      <td>IC</td>\n",
              "      <td>266086366790</td>\n",
              "      <td>2020-01-01T12:32:34.000Z</td>\n",
              "      <td>False</td>\n",
              "      <td>[]</td>\n",
              "      <td>True</td>\n",
              "      <td>3.0</td>\n",
              "      <td>FI</td>\n",
              "      <td>3</td>\n",
              "      <td>NaN</td>\n",
              "      <td>NaN</td>\n",
              "      <td>2020-01-01T12:30:00.000Z</td>\n",
              "      <td>PSL</td>\n",
              "      <td>10</td>\n",
              "      <td>NaN</td>\n",
              "      <td>NaN</td>\n",
              "      <td>NaN</td>\n",
              "      <td>NaN</td>\n",
              "      <td>True</td>\n",
              "      <td>DEPARTURE</td>\n",
              "    </tr>\n",
              "    <tr>\n",
              "      <th>3</th>\n",
              "      <td>False</td>\n",
              "      <td>NaN</td>\n",
              "      <td>2020-01-01</td>\n",
              "      <td>vr</td>\n",
              "      <td>10</td>\n",
              "      <td>False</td>\n",
              "      <td>2019-11-08T10:34:22.000Z</td>\n",
              "      <td>REGULAR</td>\n",
              "      <td>Long-distance</td>\n",
              "      <td>27</td>\n",
              "      <td>IC</td>\n",
              "      <td>266086366790</td>\n",
              "      <td>2020-01-01T12:34:44.000Z</td>\n",
              "      <td>False</td>\n",
              "      <td>[]</td>\n",
              "      <td>NaN</td>\n",
              "      <td>NaN</td>\n",
              "      <td>FI</td>\n",
              "      <td>3</td>\n",
              "      <td>NaN</td>\n",
              "      <td>NaN</td>\n",
              "      <td>2020-01-01T12:32:00.000Z</td>\n",
              "      <td>KÄP</td>\n",
              "      <td>977</td>\n",
              "      <td>NaN</td>\n",
              "      <td>NaN</td>\n",
              "      <td>NaN</td>\n",
              "      <td>NaN</td>\n",
              "      <td>False</td>\n",
              "      <td>ARRIVAL</td>\n",
              "    </tr>\n",
              "    <tr>\n",
              "      <th>4</th>\n",
              "      <td>False</td>\n",
              "      <td>NaN</td>\n",
              "      <td>2020-01-01</td>\n",
              "      <td>vr</td>\n",
              "      <td>10</td>\n",
              "      <td>False</td>\n",
              "      <td>2019-11-08T10:34:22.000Z</td>\n",
              "      <td>REGULAR</td>\n",
              "      <td>Long-distance</td>\n",
              "      <td>27</td>\n",
              "      <td>IC</td>\n",
              "      <td>266086366790</td>\n",
              "      <td>2020-01-01T12:34:44.000Z</td>\n",
              "      <td>False</td>\n",
              "      <td>[]</td>\n",
              "      <td>NaN</td>\n",
              "      <td>NaN</td>\n",
              "      <td>FI</td>\n",
              "      <td>3</td>\n",
              "      <td>NaN</td>\n",
              "      <td>NaN</td>\n",
              "      <td>2020-01-01T12:32:00.000Z</td>\n",
              "      <td>KÄP</td>\n",
              "      <td>977</td>\n",
              "      <td>NaN</td>\n",
              "      <td>NaN</td>\n",
              "      <td>NaN</td>\n",
              "      <td>NaN</td>\n",
              "      <td>False</td>\n",
              "      <td>DEPARTURE</td>\n",
              "    </tr>\n",
              "  </tbody>\n",
              "</table>\n",
              "</div>"
            ],
            "text/plain": [
              "   cancelled  commuterLineID  ... timeTableRows_trainStopping timeTableRows_type\n",
              "0      False             NaN  ...                        True          DEPARTURE\n",
              "1      False             NaN  ...                        True            ARRIVAL\n",
              "2      False             NaN  ...                        True          DEPARTURE\n",
              "3      False             NaN  ...                       False            ARRIVAL\n",
              "4      False             NaN  ...                       False          DEPARTURE\n",
              "\n",
              "[5 rows x 30 columns]"
            ]
          },
          "metadata": {
            "tags": []
          },
          "execution_count": 9
        }
      ]
    },
    {
      "cell_type": "code",
      "metadata": {
        "colab": {
          "base_uri": "https://localhost:8080/"
        },
        "id": "nUVik1qtPpjz",
        "outputId": "1c1c979d-0e57-4763-e33c-84c2d7e6de8a"
      },
      "source": [
        "data.isna().sum()"
      ],
      "execution_count": null,
      "outputs": [
        {
          "output_type": "execute_result",
          "data": {
            "text/plain": [
              "cancelled                                 0\n",
              "commuterLineID                        12120\n",
              "departureDate                             0\n",
              "operatorShortCode                         0\n",
              "operatorUICCode                           0\n",
              "runningCurrently                          0\n",
              "timetableAcceptanceDate                   0\n",
              "timetableType                             0\n",
              "trainCategory                             0\n",
              "trainNumber                               0\n",
              "trainType                                 0\n",
              "version                                   0\n",
              "timeTableRows_actualTime                264\n",
              "timeTableRows_cancelled                   0\n",
              "timeTableRows_causes                      0\n",
              "timeTableRows_commercialStop          11160\n",
              "timeTableRows_commercialTrack          8848\n",
              "timeTableRows_countryCode                 0\n",
              "timeTableRows_differenceInMinutes         0\n",
              "timeTableRows_estimateSource          11810\n",
              "timeTableRows_liveEstimateTime        11810\n",
              "timeTableRows_scheduledTime               0\n",
              "timeTableRows_stationShortCode            0\n",
              "timeTableRows_stationUICCode              0\n",
              "timeTableRows_trainReady              12120\n",
              "timeTableRows_trainReady_accepted     12060\n",
              "timeTableRows_trainReady_source       12060\n",
              "timeTableRows_trainReady_timestamp    12060\n",
              "timeTableRows_trainStopping               0\n",
              "timeTableRows_type                        0\n",
              "dtype: int64"
            ]
          },
          "metadata": {
            "tags": []
          },
          "execution_count": 10
        }
      ]
    },
    {
      "cell_type": "code",
      "metadata": {
        "id": "GUKl7di-EaL2"
      },
      "source": [
        "df=data.drop(['timeTableRows_trainReady_timestamp','timeTableRows_trainReady_source','timeTableRows_trainReady_accepted','trainCategory','commuterLineID','operatorShortCode','operatorUICCode','runningCurrently','timetableAcceptanceDate','timetableType','version','timeTableRows_cancelled','timeTableRows_causes','timeTableRows_commercialStop','timeTableRows_commercialTrack','timeTableRows_countryCode','timeTableRows_differenceInMinutes','timeTableRows_estimateSource','timeTableRows_liveEstimateTime','timeTableRows_stationUICCode','timeTableRows_trainReady','timeTableRows_trainReady'],axis=1)"
      ],
      "execution_count": null,
      "outputs": []
    },
    {
      "cell_type": "code",
      "metadata": {
        "colab": {
          "base_uri": "https://localhost:8080/",
          "height": 224
        },
        "id": "EG_cplgEDNRp",
        "outputId": "e5b80c94-a36b-494c-db2f-d7115a0a7bff"
      },
      "source": [
        "df.head()"
      ],
      "execution_count": null,
      "outputs": [
        {
          "output_type": "execute_result",
          "data": {
            "text/html": [
              "<div>\n",
              "<style scoped>\n",
              "    .dataframe tbody tr th:only-of-type {\n",
              "        vertical-align: middle;\n",
              "    }\n",
              "\n",
              "    .dataframe tbody tr th {\n",
              "        vertical-align: top;\n",
              "    }\n",
              "\n",
              "    .dataframe thead th {\n",
              "        text-align: right;\n",
              "    }\n",
              "</style>\n",
              "<table border=\"1\" class=\"dataframe\">\n",
              "  <thead>\n",
              "    <tr style=\"text-align: right;\">\n",
              "      <th></th>\n",
              "      <th>cancelled</th>\n",
              "      <th>departureDate</th>\n",
              "      <th>trainNumber</th>\n",
              "      <th>trainType</th>\n",
              "      <th>timeTableRows_actualTime</th>\n",
              "      <th>timeTableRows_scheduledTime</th>\n",
              "      <th>timeTableRows_stationShortCode</th>\n",
              "      <th>timeTableRows_trainStopping</th>\n",
              "      <th>timeTableRows_type</th>\n",
              "    </tr>\n",
              "  </thead>\n",
              "  <tbody>\n",
              "    <tr>\n",
              "      <th>0</th>\n",
              "      <td>False</td>\n",
              "      <td>2020-01-01</td>\n",
              "      <td>27</td>\n",
              "      <td>IC</td>\n",
              "      <td>2020-01-01T12:24:58.000Z</td>\n",
              "      <td>2020-01-01T12:24:00.000Z</td>\n",
              "      <td>HKI</td>\n",
              "      <td>True</td>\n",
              "      <td>DEPARTURE</td>\n",
              "    </tr>\n",
              "    <tr>\n",
              "      <th>1</th>\n",
              "      <td>False</td>\n",
              "      <td>2020-01-01</td>\n",
              "      <td>27</td>\n",
              "      <td>IC</td>\n",
              "      <td>2020-01-01T12:30:53.000Z</td>\n",
              "      <td>2020-01-01T12:29:00.000Z</td>\n",
              "      <td>PSL</td>\n",
              "      <td>True</td>\n",
              "      <td>ARRIVAL</td>\n",
              "    </tr>\n",
              "    <tr>\n",
              "      <th>2</th>\n",
              "      <td>False</td>\n",
              "      <td>2020-01-01</td>\n",
              "      <td>27</td>\n",
              "      <td>IC</td>\n",
              "      <td>2020-01-01T12:32:34.000Z</td>\n",
              "      <td>2020-01-01T12:30:00.000Z</td>\n",
              "      <td>PSL</td>\n",
              "      <td>True</td>\n",
              "      <td>DEPARTURE</td>\n",
              "    </tr>\n",
              "    <tr>\n",
              "      <th>3</th>\n",
              "      <td>False</td>\n",
              "      <td>2020-01-01</td>\n",
              "      <td>27</td>\n",
              "      <td>IC</td>\n",
              "      <td>2020-01-01T12:34:44.000Z</td>\n",
              "      <td>2020-01-01T12:32:00.000Z</td>\n",
              "      <td>KÄP</td>\n",
              "      <td>False</td>\n",
              "      <td>ARRIVAL</td>\n",
              "    </tr>\n",
              "    <tr>\n",
              "      <th>4</th>\n",
              "      <td>False</td>\n",
              "      <td>2020-01-01</td>\n",
              "      <td>27</td>\n",
              "      <td>IC</td>\n",
              "      <td>2020-01-01T12:34:44.000Z</td>\n",
              "      <td>2020-01-01T12:32:00.000Z</td>\n",
              "      <td>KÄP</td>\n",
              "      <td>False</td>\n",
              "      <td>DEPARTURE</td>\n",
              "    </tr>\n",
              "  </tbody>\n",
              "</table>\n",
              "</div>"
            ],
            "text/plain": [
              "   cancelled departureDate  ...  timeTableRows_trainStopping timeTableRows_type\n",
              "0      False    2020-01-01  ...                         True          DEPARTURE\n",
              "1      False    2020-01-01  ...                         True            ARRIVAL\n",
              "2      False    2020-01-01  ...                         True          DEPARTURE\n",
              "3      False    2020-01-01  ...                        False            ARRIVAL\n",
              "4      False    2020-01-01  ...                        False          DEPARTURE\n",
              "\n",
              "[5 rows x 9 columns]"
            ]
          },
          "metadata": {
            "tags": []
          },
          "execution_count": 132
        }
      ]
    },
    {
      "cell_type": "code",
      "metadata": {
        "colab": {
          "base_uri": "https://localhost:8080/"
        },
        "id": "5BS4zEWDQE1_",
        "outputId": "001379db-1113-426a-8922-d7706b898e15"
      },
      "source": [
        "df.isna().sum()"
      ],
      "execution_count": null,
      "outputs": [
        {
          "output_type": "execute_result",
          "data": {
            "text/plain": [
              "cancelled                           0\n",
              "departureDate                       0\n",
              "trainNumber                         0\n",
              "trainType                           0\n",
              "timeTableRows_actualTime          264\n",
              "timeTableRows_scheduledTime         0\n",
              "timeTableRows_stationShortCode      0\n",
              "timeTableRows_trainStopping         0\n",
              "timeTableRows_type                  0\n",
              "dtype: int64"
            ]
          },
          "metadata": {
            "tags": []
          },
          "execution_count": 133
        }
      ]
    },
    {
      "cell_type": "code",
      "metadata": {
        "id": "WGzo6MkoQM9b"
      },
      "source": [
        "df.dropna(axis=0, inplace=True)"
      ],
      "execution_count": null,
      "outputs": []
    },
    {
      "cell_type": "code",
      "metadata": {
        "colab": {
          "base_uri": "https://localhost:8080/"
        },
        "id": "qM9brZJsQxQ5",
        "outputId": "d123c1f2-be63-4efd-9e14-c1e5a7871042"
      },
      "source": [
        "df.isna().sum()"
      ],
      "execution_count": null,
      "outputs": [
        {
          "output_type": "execute_result",
          "data": {
            "text/plain": [
              "cancelled                         0\n",
              "departureDate                     0\n",
              "trainNumber                       0\n",
              "trainType                         0\n",
              "timeTableRows_actualTime          0\n",
              "timeTableRows_scheduledTime       0\n",
              "timeTableRows_stationShortCode    0\n",
              "timeTableRows_trainStopping       0\n",
              "timeTableRows_type                0\n",
              "dtype: int64"
            ]
          },
          "metadata": {
            "tags": []
          },
          "execution_count": 135
        }
      ]
    },
    {
      "cell_type": "code",
      "metadata": {
        "colab": {
          "base_uri": "https://localhost:8080/"
        },
        "id": "698nl-8MLUEI",
        "outputId": "76b58498-2d85-4696-8425-e585b4aa6f09"
      },
      "source": [
        "df.dtypes"
      ],
      "execution_count": null,
      "outputs": [
        {
          "output_type": "execute_result",
          "data": {
            "text/plain": [
              "cancelled                           bool\n",
              "departureDate                     object\n",
              "trainNumber                        int64\n",
              "trainType                         object\n",
              "timeTableRows_actualTime          object\n",
              "timeTableRows_scheduledTime       object\n",
              "timeTableRows_stationShortCode    object\n",
              "timeTableRows_trainStopping         bool\n",
              "timeTableRows_type                object\n",
              "dtype: object"
            ]
          },
          "metadata": {
            "tags": []
          },
          "execution_count": 136
        }
      ]
    },
    {
      "cell_type": "markdown",
      "metadata": {
        "id": "eKGWirADJOPO"
      },
      "source": [
        "## Selecting the only rows where the station code is  TPE and Train was not cancelled"
      ]
    },
    {
      "cell_type": "code",
      "metadata": {
        "colab": {
          "base_uri": "https://localhost:8080/",
          "height": 1000
        },
        "id": "lYkVRgnyEP0T",
        "outputId": "478a04de-d00c-4511-d4ae-f8d809d8530d"
      },
      "source": [
        "df_TPE= df.loc[(df['timeTableRows_stationShortCode']=='TPE') &(df['cancelled']==False)&(df['timeTableRows_type']=='ARRIVAL')]\n",
        "df_TPE.reset_index(drop=True)"
      ],
      "execution_count": null,
      "outputs": [
        {
          "output_type": "execute_result",
          "data": {
            "text/html": [
              "<div>\n",
              "<style scoped>\n",
              "    .dataframe tbody tr th:only-of-type {\n",
              "        vertical-align: middle;\n",
              "    }\n",
              "\n",
              "    .dataframe tbody tr th {\n",
              "        vertical-align: top;\n",
              "    }\n",
              "\n",
              "    .dataframe thead th {\n",
              "        text-align: right;\n",
              "    }\n",
              "</style>\n",
              "<table border=\"1\" class=\"dataframe\">\n",
              "  <thead>\n",
              "    <tr style=\"text-align: right;\">\n",
              "      <th></th>\n",
              "      <th>cancelled</th>\n",
              "      <th>departureDate</th>\n",
              "      <th>trainNumber</th>\n",
              "      <th>trainType</th>\n",
              "      <th>timeTableRows_actualTime</th>\n",
              "      <th>timeTableRows_scheduledTime</th>\n",
              "      <th>timeTableRows_stationShortCode</th>\n",
              "      <th>timeTableRows_trainStopping</th>\n",
              "      <th>timeTableRows_type</th>\n",
              "    </tr>\n",
              "  </thead>\n",
              "  <tbody>\n",
              "    <tr>\n",
              "      <th>0</th>\n",
              "      <td>False</td>\n",
              "      <td>2020-01-01</td>\n",
              "      <td>27</td>\n",
              "      <td>IC</td>\n",
              "      <td>2020-01-01T13:57:01.000Z</td>\n",
              "      <td>2020-01-01T13:58:00.000Z</td>\n",
              "      <td>TPE</td>\n",
              "      <td>True</td>\n",
              "      <td>ARRIVAL</td>\n",
              "    </tr>\n",
              "    <tr>\n",
              "      <th>1</th>\n",
              "      <td>False</td>\n",
              "      <td>2020-01-02</td>\n",
              "      <td>27</td>\n",
              "      <td>IC</td>\n",
              "      <td>2020-01-02T14:04:54.000Z</td>\n",
              "      <td>2020-01-02T13:58:00.000Z</td>\n",
              "      <td>TPE</td>\n",
              "      <td>True</td>\n",
              "      <td>ARRIVAL</td>\n",
              "    </tr>\n",
              "    <tr>\n",
              "      <th>2</th>\n",
              "      <td>False</td>\n",
              "      <td>2020-01-03</td>\n",
              "      <td>27</td>\n",
              "      <td>IC</td>\n",
              "      <td>2020-01-03T13:57:10.000Z</td>\n",
              "      <td>2020-01-03T13:58:00.000Z</td>\n",
              "      <td>TPE</td>\n",
              "      <td>True</td>\n",
              "      <td>ARRIVAL</td>\n",
              "    </tr>\n",
              "    <tr>\n",
              "      <th>3</th>\n",
              "      <td>False</td>\n",
              "      <td>2020-01-04</td>\n",
              "      <td>27</td>\n",
              "      <td>IC</td>\n",
              "      <td>2020-01-04T14:06:17.000Z</td>\n",
              "      <td>2020-01-04T13:58:00.000Z</td>\n",
              "      <td>TPE</td>\n",
              "      <td>True</td>\n",
              "      <td>ARRIVAL</td>\n",
              "    </tr>\n",
              "    <tr>\n",
              "      <th>4</th>\n",
              "      <td>False</td>\n",
              "      <td>2020-01-05</td>\n",
              "      <td>27</td>\n",
              "      <td>IC</td>\n",
              "      <td>2020-01-05T13:56:47.000Z</td>\n",
              "      <td>2020-01-05T13:58:00.000Z</td>\n",
              "      <td>TPE</td>\n",
              "      <td>True</td>\n",
              "      <td>ARRIVAL</td>\n",
              "    </tr>\n",
              "    <tr>\n",
              "      <th>5</th>\n",
              "      <td>False</td>\n",
              "      <td>2020-01-06</td>\n",
              "      <td>27</td>\n",
              "      <td>IC</td>\n",
              "      <td>2020-01-06T13:58:06.000Z</td>\n",
              "      <td>2020-01-06T13:58:00.000Z</td>\n",
              "      <td>TPE</td>\n",
              "      <td>True</td>\n",
              "      <td>ARRIVAL</td>\n",
              "    </tr>\n",
              "    <tr>\n",
              "      <th>6</th>\n",
              "      <td>False</td>\n",
              "      <td>2020-01-07</td>\n",
              "      <td>27</td>\n",
              "      <td>IC</td>\n",
              "      <td>2020-01-07T13:55:45.000Z</td>\n",
              "      <td>2020-01-07T13:58:00.000Z</td>\n",
              "      <td>TPE</td>\n",
              "      <td>True</td>\n",
              "      <td>ARRIVAL</td>\n",
              "    </tr>\n",
              "    <tr>\n",
              "      <th>7</th>\n",
              "      <td>False</td>\n",
              "      <td>2020-01-08</td>\n",
              "      <td>27</td>\n",
              "      <td>IC</td>\n",
              "      <td>2020-01-08T13:56:33.000Z</td>\n",
              "      <td>2020-01-08T13:58:00.000Z</td>\n",
              "      <td>TPE</td>\n",
              "      <td>True</td>\n",
              "      <td>ARRIVAL</td>\n",
              "    </tr>\n",
              "    <tr>\n",
              "      <th>8</th>\n",
              "      <td>False</td>\n",
              "      <td>2020-01-09</td>\n",
              "      <td>27</td>\n",
              "      <td>IC</td>\n",
              "      <td>2020-01-09T13:56:02.000Z</td>\n",
              "      <td>2020-01-09T13:58:00.000Z</td>\n",
              "      <td>TPE</td>\n",
              "      <td>True</td>\n",
              "      <td>ARRIVAL</td>\n",
              "    </tr>\n",
              "    <tr>\n",
              "      <th>9</th>\n",
              "      <td>False</td>\n",
              "      <td>2020-01-10</td>\n",
              "      <td>27</td>\n",
              "      <td>IC</td>\n",
              "      <td>2020-01-10T13:55:36.000Z</td>\n",
              "      <td>2020-01-10T13:58:00.000Z</td>\n",
              "      <td>TPE</td>\n",
              "      <td>True</td>\n",
              "      <td>ARRIVAL</td>\n",
              "    </tr>\n",
              "    <tr>\n",
              "      <th>10</th>\n",
              "      <td>False</td>\n",
              "      <td>2020-01-11</td>\n",
              "      <td>27</td>\n",
              "      <td>IC</td>\n",
              "      <td>2020-01-11T14:10:49.000Z</td>\n",
              "      <td>2020-01-11T13:58:00.000Z</td>\n",
              "      <td>TPE</td>\n",
              "      <td>True</td>\n",
              "      <td>ARRIVAL</td>\n",
              "    </tr>\n",
              "    <tr>\n",
              "      <th>11</th>\n",
              "      <td>False</td>\n",
              "      <td>2020-01-12</td>\n",
              "      <td>27</td>\n",
              "      <td>IC</td>\n",
              "      <td>2020-01-12T13:58:04.000Z</td>\n",
              "      <td>2020-01-12T13:58:00.000Z</td>\n",
              "      <td>TPE</td>\n",
              "      <td>True</td>\n",
              "      <td>ARRIVAL</td>\n",
              "    </tr>\n",
              "    <tr>\n",
              "      <th>12</th>\n",
              "      <td>False</td>\n",
              "      <td>2020-01-13</td>\n",
              "      <td>27</td>\n",
              "      <td>IC</td>\n",
              "      <td>2020-01-13T14:00:13.000Z</td>\n",
              "      <td>2020-01-13T13:58:00.000Z</td>\n",
              "      <td>TPE</td>\n",
              "      <td>True</td>\n",
              "      <td>ARRIVAL</td>\n",
              "    </tr>\n",
              "    <tr>\n",
              "      <th>13</th>\n",
              "      <td>False</td>\n",
              "      <td>2020-01-14</td>\n",
              "      <td>27</td>\n",
              "      <td>IC</td>\n",
              "      <td>2020-01-14T14:00:03.000Z</td>\n",
              "      <td>2020-01-14T13:58:00.000Z</td>\n",
              "      <td>TPE</td>\n",
              "      <td>True</td>\n",
              "      <td>ARRIVAL</td>\n",
              "    </tr>\n",
              "    <tr>\n",
              "      <th>14</th>\n",
              "      <td>False</td>\n",
              "      <td>2020-01-15</td>\n",
              "      <td>27</td>\n",
              "      <td>IC</td>\n",
              "      <td>2020-01-15T14:00:04.000Z</td>\n",
              "      <td>2020-01-15T13:58:00.000Z</td>\n",
              "      <td>TPE</td>\n",
              "      <td>True</td>\n",
              "      <td>ARRIVAL</td>\n",
              "    </tr>\n",
              "    <tr>\n",
              "      <th>15</th>\n",
              "      <td>False</td>\n",
              "      <td>2020-01-16</td>\n",
              "      <td>27</td>\n",
              "      <td>IC</td>\n",
              "      <td>2020-01-16T13:57:46.000Z</td>\n",
              "      <td>2020-01-16T13:58:00.000Z</td>\n",
              "      <td>TPE</td>\n",
              "      <td>True</td>\n",
              "      <td>ARRIVAL</td>\n",
              "    </tr>\n",
              "    <tr>\n",
              "      <th>16</th>\n",
              "      <td>False</td>\n",
              "      <td>2020-01-17</td>\n",
              "      <td>27</td>\n",
              "      <td>IC</td>\n",
              "      <td>2020-01-17T13:55:30.000Z</td>\n",
              "      <td>2020-01-17T13:58:00.000Z</td>\n",
              "      <td>TPE</td>\n",
              "      <td>True</td>\n",
              "      <td>ARRIVAL</td>\n",
              "    </tr>\n",
              "    <tr>\n",
              "      <th>17</th>\n",
              "      <td>False</td>\n",
              "      <td>2020-01-18</td>\n",
              "      <td>27</td>\n",
              "      <td>IC</td>\n",
              "      <td>2020-01-18T13:59:19.000Z</td>\n",
              "      <td>2020-01-18T13:58:00.000Z</td>\n",
              "      <td>TPE</td>\n",
              "      <td>True</td>\n",
              "      <td>ARRIVAL</td>\n",
              "    </tr>\n",
              "    <tr>\n",
              "      <th>18</th>\n",
              "      <td>False</td>\n",
              "      <td>2020-01-19</td>\n",
              "      <td>27</td>\n",
              "      <td>IC</td>\n",
              "      <td>2020-01-19T14:01:21.000Z</td>\n",
              "      <td>2020-01-19T13:58:00.000Z</td>\n",
              "      <td>TPE</td>\n",
              "      <td>True</td>\n",
              "      <td>ARRIVAL</td>\n",
              "    </tr>\n",
              "    <tr>\n",
              "      <th>19</th>\n",
              "      <td>False</td>\n",
              "      <td>2020-01-20</td>\n",
              "      <td>27</td>\n",
              "      <td>IC</td>\n",
              "      <td>2020-01-20T13:57:33.000Z</td>\n",
              "      <td>2020-01-20T13:58:00.000Z</td>\n",
              "      <td>TPE</td>\n",
              "      <td>True</td>\n",
              "      <td>ARRIVAL</td>\n",
              "    </tr>\n",
              "    <tr>\n",
              "      <th>20</th>\n",
              "      <td>False</td>\n",
              "      <td>2020-01-21</td>\n",
              "      <td>27</td>\n",
              "      <td>IC</td>\n",
              "      <td>2020-01-21T13:58:40.000Z</td>\n",
              "      <td>2020-01-21T13:58:00.000Z</td>\n",
              "      <td>TPE</td>\n",
              "      <td>True</td>\n",
              "      <td>ARRIVAL</td>\n",
              "    </tr>\n",
              "    <tr>\n",
              "      <th>21</th>\n",
              "      <td>False</td>\n",
              "      <td>2020-01-22</td>\n",
              "      <td>27</td>\n",
              "      <td>IC</td>\n",
              "      <td>2020-01-22T14:03:48.000Z</td>\n",
              "      <td>2020-01-22T13:58:00.000Z</td>\n",
              "      <td>TPE</td>\n",
              "      <td>True</td>\n",
              "      <td>ARRIVAL</td>\n",
              "    </tr>\n",
              "    <tr>\n",
              "      <th>22</th>\n",
              "      <td>False</td>\n",
              "      <td>2020-01-23</td>\n",
              "      <td>27</td>\n",
              "      <td>IC</td>\n",
              "      <td>2020-01-23T14:04:36.000Z</td>\n",
              "      <td>2020-01-23T13:58:00.000Z</td>\n",
              "      <td>TPE</td>\n",
              "      <td>True</td>\n",
              "      <td>ARRIVAL</td>\n",
              "    </tr>\n",
              "    <tr>\n",
              "      <th>23</th>\n",
              "      <td>False</td>\n",
              "      <td>2020-01-24</td>\n",
              "      <td>27</td>\n",
              "      <td>IC</td>\n",
              "      <td>2020-01-24T14:03:35.000Z</td>\n",
              "      <td>2020-01-24T13:58:00.000Z</td>\n",
              "      <td>TPE</td>\n",
              "      <td>True</td>\n",
              "      <td>ARRIVAL</td>\n",
              "    </tr>\n",
              "    <tr>\n",
              "      <th>24</th>\n",
              "      <td>False</td>\n",
              "      <td>2020-01-25</td>\n",
              "      <td>27</td>\n",
              "      <td>IC</td>\n",
              "      <td>2020-01-25T14:00:24.000Z</td>\n",
              "      <td>2020-01-25T13:58:00.000Z</td>\n",
              "      <td>TPE</td>\n",
              "      <td>True</td>\n",
              "      <td>ARRIVAL</td>\n",
              "    </tr>\n",
              "    <tr>\n",
              "      <th>25</th>\n",
              "      <td>False</td>\n",
              "      <td>2020-01-26</td>\n",
              "      <td>27</td>\n",
              "      <td>IC</td>\n",
              "      <td>2020-01-26T13:56:20.000Z</td>\n",
              "      <td>2020-01-26T13:58:00.000Z</td>\n",
              "      <td>TPE</td>\n",
              "      <td>True</td>\n",
              "      <td>ARRIVAL</td>\n",
              "    </tr>\n",
              "    <tr>\n",
              "      <th>26</th>\n",
              "      <td>False</td>\n",
              "      <td>2020-01-27</td>\n",
              "      <td>27</td>\n",
              "      <td>IC</td>\n",
              "      <td>2020-01-27T14:01:47.000Z</td>\n",
              "      <td>2020-01-27T13:58:00.000Z</td>\n",
              "      <td>TPE</td>\n",
              "      <td>True</td>\n",
              "      <td>ARRIVAL</td>\n",
              "    </tr>\n",
              "    <tr>\n",
              "      <th>27</th>\n",
              "      <td>False</td>\n",
              "      <td>2020-01-28</td>\n",
              "      <td>27</td>\n",
              "      <td>IC</td>\n",
              "      <td>2020-01-28T13:57:11.000Z</td>\n",
              "      <td>2020-01-28T13:58:00.000Z</td>\n",
              "      <td>TPE</td>\n",
              "      <td>True</td>\n",
              "      <td>ARRIVAL</td>\n",
              "    </tr>\n",
              "    <tr>\n",
              "      <th>28</th>\n",
              "      <td>False</td>\n",
              "      <td>2020-01-29</td>\n",
              "      <td>27</td>\n",
              "      <td>IC</td>\n",
              "      <td>2020-01-29T14:06:29.000Z</td>\n",
              "      <td>2020-01-29T13:58:00.000Z</td>\n",
              "      <td>TPE</td>\n",
              "      <td>True</td>\n",
              "      <td>ARRIVAL</td>\n",
              "    </tr>\n",
              "    <tr>\n",
              "      <th>29</th>\n",
              "      <td>False</td>\n",
              "      <td>2020-01-30</td>\n",
              "      <td>27</td>\n",
              "      <td>IC</td>\n",
              "      <td>2020-01-30T14:01:33.000Z</td>\n",
              "      <td>2020-01-30T13:58:00.000Z</td>\n",
              "      <td>TPE</td>\n",
              "      <td>True</td>\n",
              "      <td>ARRIVAL</td>\n",
              "    </tr>\n",
              "    <tr>\n",
              "      <th>30</th>\n",
              "      <td>False</td>\n",
              "      <td>2020-01-31</td>\n",
              "      <td>27</td>\n",
              "      <td>IC</td>\n",
              "      <td>2020-01-31T14:10:34.000Z</td>\n",
              "      <td>2020-01-31T13:58:00.000Z</td>\n",
              "      <td>TPE</td>\n",
              "      <td>True</td>\n",
              "      <td>ARRIVAL</td>\n",
              "    </tr>\n",
              "    <tr>\n",
              "      <th>31</th>\n",
              "      <td>False</td>\n",
              "      <td>2020-02-01</td>\n",
              "      <td>27</td>\n",
              "      <td>IC</td>\n",
              "      <td>2020-02-01T14:02:08.000Z</td>\n",
              "      <td>2020-02-01T13:58:00.000Z</td>\n",
              "      <td>TPE</td>\n",
              "      <td>True</td>\n",
              "      <td>ARRIVAL</td>\n",
              "    </tr>\n",
              "    <tr>\n",
              "      <th>32</th>\n",
              "      <td>False</td>\n",
              "      <td>2020-02-02</td>\n",
              "      <td>27</td>\n",
              "      <td>IC</td>\n",
              "      <td>2020-02-02T13:59:53.000Z</td>\n",
              "      <td>2020-02-02T13:58:00.000Z</td>\n",
              "      <td>TPE</td>\n",
              "      <td>True</td>\n",
              "      <td>ARRIVAL</td>\n",
              "    </tr>\n",
              "    <tr>\n",
              "      <th>33</th>\n",
              "      <td>False</td>\n",
              "      <td>2020-02-03</td>\n",
              "      <td>27</td>\n",
              "      <td>IC</td>\n",
              "      <td>2020-02-03T14:07:19.000Z</td>\n",
              "      <td>2020-02-03T13:58:00.000Z</td>\n",
              "      <td>TPE</td>\n",
              "      <td>True</td>\n",
              "      <td>ARRIVAL</td>\n",
              "    </tr>\n",
              "    <tr>\n",
              "      <th>34</th>\n",
              "      <td>False</td>\n",
              "      <td>2020-02-04</td>\n",
              "      <td>27</td>\n",
              "      <td>IC</td>\n",
              "      <td>2020-02-04T13:55:18.000Z</td>\n",
              "      <td>2020-02-04T13:58:00.000Z</td>\n",
              "      <td>TPE</td>\n",
              "      <td>True</td>\n",
              "      <td>ARRIVAL</td>\n",
              "    </tr>\n",
              "    <tr>\n",
              "      <th>35</th>\n",
              "      <td>False</td>\n",
              "      <td>2020-02-05</td>\n",
              "      <td>27</td>\n",
              "      <td>IC</td>\n",
              "      <td>2020-02-05T14:16:40.000Z</td>\n",
              "      <td>2020-02-05T13:58:00.000Z</td>\n",
              "      <td>TPE</td>\n",
              "      <td>True</td>\n",
              "      <td>ARRIVAL</td>\n",
              "    </tr>\n",
              "    <tr>\n",
              "      <th>36</th>\n",
              "      <td>False</td>\n",
              "      <td>2020-02-06</td>\n",
              "      <td>27</td>\n",
              "      <td>IC</td>\n",
              "      <td>2020-02-06T14:23:24.000Z</td>\n",
              "      <td>2020-02-06T13:58:00.000Z</td>\n",
              "      <td>TPE</td>\n",
              "      <td>True</td>\n",
              "      <td>ARRIVAL</td>\n",
              "    </tr>\n",
              "    <tr>\n",
              "      <th>37</th>\n",
              "      <td>False</td>\n",
              "      <td>2020-02-07</td>\n",
              "      <td>27</td>\n",
              "      <td>IC</td>\n",
              "      <td>2020-02-07T14:03:46.000Z</td>\n",
              "      <td>2020-02-07T13:58:00.000Z</td>\n",
              "      <td>TPE</td>\n",
              "      <td>True</td>\n",
              "      <td>ARRIVAL</td>\n",
              "    </tr>\n",
              "    <tr>\n",
              "      <th>38</th>\n",
              "      <td>False</td>\n",
              "      <td>2020-02-08</td>\n",
              "      <td>27</td>\n",
              "      <td>IC</td>\n",
              "      <td>2020-02-08T13:59:49.000Z</td>\n",
              "      <td>2020-02-08T13:58:00.000Z</td>\n",
              "      <td>TPE</td>\n",
              "      <td>True</td>\n",
              "      <td>ARRIVAL</td>\n",
              "    </tr>\n",
              "    <tr>\n",
              "      <th>39</th>\n",
              "      <td>False</td>\n",
              "      <td>2020-02-09</td>\n",
              "      <td>27</td>\n",
              "      <td>IC</td>\n",
              "      <td>2020-02-09T13:59:36.000Z</td>\n",
              "      <td>2020-02-09T13:58:00.000Z</td>\n",
              "      <td>TPE</td>\n",
              "      <td>True</td>\n",
              "      <td>ARRIVAL</td>\n",
              "    </tr>\n",
              "    <tr>\n",
              "      <th>40</th>\n",
              "      <td>False</td>\n",
              "      <td>2020-02-10</td>\n",
              "      <td>27</td>\n",
              "      <td>IC</td>\n",
              "      <td>2020-02-10T14:03:24.000Z</td>\n",
              "      <td>2020-02-10T13:58:00.000Z</td>\n",
              "      <td>TPE</td>\n",
              "      <td>True</td>\n",
              "      <td>ARRIVAL</td>\n",
              "    </tr>\n",
              "    <tr>\n",
              "      <th>41</th>\n",
              "      <td>False</td>\n",
              "      <td>2020-02-11</td>\n",
              "      <td>27</td>\n",
              "      <td>IC</td>\n",
              "      <td>2020-02-11T13:58:50.000Z</td>\n",
              "      <td>2020-02-11T13:58:00.000Z</td>\n",
              "      <td>TPE</td>\n",
              "      <td>True</td>\n",
              "      <td>ARRIVAL</td>\n",
              "    </tr>\n",
              "    <tr>\n",
              "      <th>42</th>\n",
              "      <td>False</td>\n",
              "      <td>2020-02-12</td>\n",
              "      <td>27</td>\n",
              "      <td>IC</td>\n",
              "      <td>2020-02-12T13:56:43.000Z</td>\n",
              "      <td>2020-02-12T13:58:00.000Z</td>\n",
              "      <td>TPE</td>\n",
              "      <td>True</td>\n",
              "      <td>ARRIVAL</td>\n",
              "    </tr>\n",
              "    <tr>\n",
              "      <th>43</th>\n",
              "      <td>False</td>\n",
              "      <td>2020-02-13</td>\n",
              "      <td>27</td>\n",
              "      <td>IC</td>\n",
              "      <td>2020-02-13T13:59:59.000Z</td>\n",
              "      <td>2020-02-13T13:58:00.000Z</td>\n",
              "      <td>TPE</td>\n",
              "      <td>True</td>\n",
              "      <td>ARRIVAL</td>\n",
              "    </tr>\n",
              "    <tr>\n",
              "      <th>44</th>\n",
              "      <td>False</td>\n",
              "      <td>2020-02-14</td>\n",
              "      <td>27</td>\n",
              "      <td>IC</td>\n",
              "      <td>2020-02-14T13:57:11.000Z</td>\n",
              "      <td>2020-02-14T13:58:00.000Z</td>\n",
              "      <td>TPE</td>\n",
              "      <td>True</td>\n",
              "      <td>ARRIVAL</td>\n",
              "    </tr>\n",
              "    <tr>\n",
              "      <th>45</th>\n",
              "      <td>False</td>\n",
              "      <td>2020-02-15</td>\n",
              "      <td>27</td>\n",
              "      <td>IC</td>\n",
              "      <td>2020-02-15T14:05:07.000Z</td>\n",
              "      <td>2020-02-15T13:58:00.000Z</td>\n",
              "      <td>TPE</td>\n",
              "      <td>True</td>\n",
              "      <td>ARRIVAL</td>\n",
              "    </tr>\n",
              "    <tr>\n",
              "      <th>46</th>\n",
              "      <td>False</td>\n",
              "      <td>2020-02-16</td>\n",
              "      <td>27</td>\n",
              "      <td>IC</td>\n",
              "      <td>2020-02-16T13:57:26.000Z</td>\n",
              "      <td>2020-02-16T13:58:00.000Z</td>\n",
              "      <td>TPE</td>\n",
              "      <td>True</td>\n",
              "      <td>ARRIVAL</td>\n",
              "    </tr>\n",
              "    <tr>\n",
              "      <th>47</th>\n",
              "      <td>False</td>\n",
              "      <td>2020-02-17</td>\n",
              "      <td>27</td>\n",
              "      <td>IC</td>\n",
              "      <td>2020-02-17T13:58:01.000Z</td>\n",
              "      <td>2020-02-17T13:58:00.000Z</td>\n",
              "      <td>TPE</td>\n",
              "      <td>True</td>\n",
              "      <td>ARRIVAL</td>\n",
              "    </tr>\n",
              "    <tr>\n",
              "      <th>48</th>\n",
              "      <td>False</td>\n",
              "      <td>2020-02-18</td>\n",
              "      <td>27</td>\n",
              "      <td>IC</td>\n",
              "      <td>2020-02-18T14:03:00.000Z</td>\n",
              "      <td>2020-02-18T13:58:00.000Z</td>\n",
              "      <td>TPE</td>\n",
              "      <td>True</td>\n",
              "      <td>ARRIVAL</td>\n",
              "    </tr>\n",
              "    <tr>\n",
              "      <th>49</th>\n",
              "      <td>False</td>\n",
              "      <td>2020-02-19</td>\n",
              "      <td>27</td>\n",
              "      <td>IC</td>\n",
              "      <td>2020-02-19T14:02:17.000Z</td>\n",
              "      <td>2020-02-19T13:58:00.000Z</td>\n",
              "      <td>TPE</td>\n",
              "      <td>True</td>\n",
              "      <td>ARRIVAL</td>\n",
              "    </tr>\n",
              "    <tr>\n",
              "      <th>50</th>\n",
              "      <td>False</td>\n",
              "      <td>2020-02-20</td>\n",
              "      <td>27</td>\n",
              "      <td>IC</td>\n",
              "      <td>2020-02-20T13:59:29.000Z</td>\n",
              "      <td>2020-02-20T13:58:00.000Z</td>\n",
              "      <td>TPE</td>\n",
              "      <td>True</td>\n",
              "      <td>ARRIVAL</td>\n",
              "    </tr>\n",
              "    <tr>\n",
              "      <th>51</th>\n",
              "      <td>False</td>\n",
              "      <td>2020-02-21</td>\n",
              "      <td>27</td>\n",
              "      <td>IC</td>\n",
              "      <td>2020-02-21T13:57:49.000Z</td>\n",
              "      <td>2020-02-21T13:58:00.000Z</td>\n",
              "      <td>TPE</td>\n",
              "      <td>True</td>\n",
              "      <td>ARRIVAL</td>\n",
              "    </tr>\n",
              "    <tr>\n",
              "      <th>52</th>\n",
              "      <td>False</td>\n",
              "      <td>2020-02-22</td>\n",
              "      <td>27</td>\n",
              "      <td>IC</td>\n",
              "      <td>2020-02-22T13:58:18.000Z</td>\n",
              "      <td>2020-02-22T13:58:00.000Z</td>\n",
              "      <td>TPE</td>\n",
              "      <td>True</td>\n",
              "      <td>ARRIVAL</td>\n",
              "    </tr>\n",
              "    <tr>\n",
              "      <th>53</th>\n",
              "      <td>False</td>\n",
              "      <td>2020-02-23</td>\n",
              "      <td>27</td>\n",
              "      <td>IC</td>\n",
              "      <td>2020-02-23T13:57:51.000Z</td>\n",
              "      <td>2020-02-23T13:58:00.000Z</td>\n",
              "      <td>TPE</td>\n",
              "      <td>True</td>\n",
              "      <td>ARRIVAL</td>\n",
              "    </tr>\n",
              "    <tr>\n",
              "      <th>54</th>\n",
              "      <td>False</td>\n",
              "      <td>2020-02-24</td>\n",
              "      <td>27</td>\n",
              "      <td>IC</td>\n",
              "      <td>2020-02-24T13:55:57.000Z</td>\n",
              "      <td>2020-02-24T13:58:00.000Z</td>\n",
              "      <td>TPE</td>\n",
              "      <td>True</td>\n",
              "      <td>ARRIVAL</td>\n",
              "    </tr>\n",
              "    <tr>\n",
              "      <th>55</th>\n",
              "      <td>False</td>\n",
              "      <td>2020-02-25</td>\n",
              "      <td>27</td>\n",
              "      <td>IC</td>\n",
              "      <td>2020-02-25T14:25:08.000Z</td>\n",
              "      <td>2020-02-25T13:58:00.000Z</td>\n",
              "      <td>TPE</td>\n",
              "      <td>True</td>\n",
              "      <td>ARRIVAL</td>\n",
              "    </tr>\n",
              "    <tr>\n",
              "      <th>56</th>\n",
              "      <td>False</td>\n",
              "      <td>2020-02-26</td>\n",
              "      <td>27</td>\n",
              "      <td>IC</td>\n",
              "      <td>2020-02-26T13:59:48.000Z</td>\n",
              "      <td>2020-02-26T13:58:00.000Z</td>\n",
              "      <td>TPE</td>\n",
              "      <td>True</td>\n",
              "      <td>ARRIVAL</td>\n",
              "    </tr>\n",
              "    <tr>\n",
              "      <th>57</th>\n",
              "      <td>False</td>\n",
              "      <td>2020-02-27</td>\n",
              "      <td>27</td>\n",
              "      <td>IC</td>\n",
              "      <td>2020-02-27T13:57:20.000Z</td>\n",
              "      <td>2020-02-27T13:58:00.000Z</td>\n",
              "      <td>TPE</td>\n",
              "      <td>True</td>\n",
              "      <td>ARRIVAL</td>\n",
              "    </tr>\n",
              "    <tr>\n",
              "      <th>58</th>\n",
              "      <td>False</td>\n",
              "      <td>2020-02-28</td>\n",
              "      <td>27</td>\n",
              "      <td>IC</td>\n",
              "      <td>2020-02-28T14:37:01.000Z</td>\n",
              "      <td>2020-02-28T13:58:00.000Z</td>\n",
              "      <td>TPE</td>\n",
              "      <td>True</td>\n",
              "      <td>ARRIVAL</td>\n",
              "    </tr>\n",
              "    <tr>\n",
              "      <th>59</th>\n",
              "      <td>False</td>\n",
              "      <td>2020-02-29</td>\n",
              "      <td>27</td>\n",
              "      <td>IC</td>\n",
              "      <td>2020-02-29T13:59:45.000Z</td>\n",
              "      <td>2020-02-29T13:58:00.000Z</td>\n",
              "      <td>TPE</td>\n",
              "      <td>True</td>\n",
              "      <td>ARRIVAL</td>\n",
              "    </tr>\n",
              "  </tbody>\n",
              "</table>\n",
              "</div>"
            ],
            "text/plain": [
              "    cancelled departureDate  ...  timeTableRows_trainStopping timeTableRows_type\n",
              "0       False    2020-01-01  ...                         True            ARRIVAL\n",
              "1       False    2020-01-02  ...                         True            ARRIVAL\n",
              "2       False    2020-01-03  ...                         True            ARRIVAL\n",
              "3       False    2020-01-04  ...                         True            ARRIVAL\n",
              "4       False    2020-01-05  ...                         True            ARRIVAL\n",
              "5       False    2020-01-06  ...                         True            ARRIVAL\n",
              "6       False    2020-01-07  ...                         True            ARRIVAL\n",
              "7       False    2020-01-08  ...                         True            ARRIVAL\n",
              "8       False    2020-01-09  ...                         True            ARRIVAL\n",
              "9       False    2020-01-10  ...                         True            ARRIVAL\n",
              "10      False    2020-01-11  ...                         True            ARRIVAL\n",
              "11      False    2020-01-12  ...                         True            ARRIVAL\n",
              "12      False    2020-01-13  ...                         True            ARRIVAL\n",
              "13      False    2020-01-14  ...                         True            ARRIVAL\n",
              "14      False    2020-01-15  ...                         True            ARRIVAL\n",
              "15      False    2020-01-16  ...                         True            ARRIVAL\n",
              "16      False    2020-01-17  ...                         True            ARRIVAL\n",
              "17      False    2020-01-18  ...                         True            ARRIVAL\n",
              "18      False    2020-01-19  ...                         True            ARRIVAL\n",
              "19      False    2020-01-20  ...                         True            ARRIVAL\n",
              "20      False    2020-01-21  ...                         True            ARRIVAL\n",
              "21      False    2020-01-22  ...                         True            ARRIVAL\n",
              "22      False    2020-01-23  ...                         True            ARRIVAL\n",
              "23      False    2020-01-24  ...                         True            ARRIVAL\n",
              "24      False    2020-01-25  ...                         True            ARRIVAL\n",
              "25      False    2020-01-26  ...                         True            ARRIVAL\n",
              "26      False    2020-01-27  ...                         True            ARRIVAL\n",
              "27      False    2020-01-28  ...                         True            ARRIVAL\n",
              "28      False    2020-01-29  ...                         True            ARRIVAL\n",
              "29      False    2020-01-30  ...                         True            ARRIVAL\n",
              "30      False    2020-01-31  ...                         True            ARRIVAL\n",
              "31      False    2020-02-01  ...                         True            ARRIVAL\n",
              "32      False    2020-02-02  ...                         True            ARRIVAL\n",
              "33      False    2020-02-03  ...                         True            ARRIVAL\n",
              "34      False    2020-02-04  ...                         True            ARRIVAL\n",
              "35      False    2020-02-05  ...                         True            ARRIVAL\n",
              "36      False    2020-02-06  ...                         True            ARRIVAL\n",
              "37      False    2020-02-07  ...                         True            ARRIVAL\n",
              "38      False    2020-02-08  ...                         True            ARRIVAL\n",
              "39      False    2020-02-09  ...                         True            ARRIVAL\n",
              "40      False    2020-02-10  ...                         True            ARRIVAL\n",
              "41      False    2020-02-11  ...                         True            ARRIVAL\n",
              "42      False    2020-02-12  ...                         True            ARRIVAL\n",
              "43      False    2020-02-13  ...                         True            ARRIVAL\n",
              "44      False    2020-02-14  ...                         True            ARRIVAL\n",
              "45      False    2020-02-15  ...                         True            ARRIVAL\n",
              "46      False    2020-02-16  ...                         True            ARRIVAL\n",
              "47      False    2020-02-17  ...                         True            ARRIVAL\n",
              "48      False    2020-02-18  ...                         True            ARRIVAL\n",
              "49      False    2020-02-19  ...                         True            ARRIVAL\n",
              "50      False    2020-02-20  ...                         True            ARRIVAL\n",
              "51      False    2020-02-21  ...                         True            ARRIVAL\n",
              "52      False    2020-02-22  ...                         True            ARRIVAL\n",
              "53      False    2020-02-23  ...                         True            ARRIVAL\n",
              "54      False    2020-02-24  ...                         True            ARRIVAL\n",
              "55      False    2020-02-25  ...                         True            ARRIVAL\n",
              "56      False    2020-02-26  ...                         True            ARRIVAL\n",
              "57      False    2020-02-27  ...                         True            ARRIVAL\n",
              "58      False    2020-02-28  ...                         True            ARRIVAL\n",
              "59      False    2020-02-29  ...                         True            ARRIVAL\n",
              "\n",
              "[60 rows x 9 columns]"
            ]
          },
          "metadata": {
            "tags": []
          },
          "execution_count": 137
        }
      ]
    },
    {
      "cell_type": "markdown",
      "metadata": {
        "id": "3lDWveFQQWnw"
      },
      "source": [
        "## Separating Date and Time"
      ]
    },
    {
      "cell_type": "code",
      "metadata": {
        "colab": {
          "base_uri": "https://localhost:8080/"
        },
        "id": "bAu7-TVGXlku",
        "outputId": "dc7b5cc4-757a-40f5-becb-42ccd0742f7e"
      },
      "source": [
        "df_TPE['timeTableRows_actualTime']=pd.to_datetime(df_TPE['timeTableRows_actualTime'])\n",
        "df_TPE['timeTableRows_scheduledTime']=pd.to_datetime(df_TPE['timeTableRows_scheduledTime'])\n"
      ],
      "execution_count": null,
      "outputs": [
        {
          "output_type": "stream",
          "text": [
            "/usr/local/lib/python3.7/dist-packages/ipykernel_launcher.py:1: SettingWithCopyWarning: \n",
            "A value is trying to be set on a copy of a slice from a DataFrame.\n",
            "Try using .loc[row_indexer,col_indexer] = value instead\n",
            "\n",
            "See the caveats in the documentation: https://pandas.pydata.org/pandas-docs/stable/user_guide/indexing.html#returning-a-view-versus-a-copy\n",
            "  \"\"\"Entry point for launching an IPython kernel.\n",
            "/usr/local/lib/python3.7/dist-packages/ipykernel_launcher.py:2: SettingWithCopyWarning: \n",
            "A value is trying to be set on a copy of a slice from a DataFrame.\n",
            "Try using .loc[row_indexer,col_indexer] = value instead\n",
            "\n",
            "See the caveats in the documentation: https://pandas.pydata.org/pandas-docs/stable/user_guide/indexing.html#returning-a-view-versus-a-copy\n",
            "  \n"
          ],
          "name": "stderr"
        }
      ]
    },
    {
      "cell_type": "code",
      "metadata": {
        "colab": {
          "base_uri": "https://localhost:8080/"
        },
        "id": "LlFjeS6oZE4f",
        "outputId": "ebcbd887-c00b-4806-c2d0-442caff7861d"
      },
      "source": [
        "df_TPE.dtypes"
      ],
      "execution_count": null,
      "outputs": [
        {
          "output_type": "execute_result",
          "data": {
            "text/plain": [
              "cancelled                                        bool\n",
              "departureDate                                  object\n",
              "trainNumber                                     int64\n",
              "trainType                                      object\n",
              "timeTableRows_actualTime          datetime64[ns, UTC]\n",
              "timeTableRows_scheduledTime       datetime64[ns, UTC]\n",
              "timeTableRows_stationShortCode                 object\n",
              "timeTableRows_trainStopping                      bool\n",
              "timeTableRows_type                             object\n",
              "dtype: object"
            ]
          },
          "metadata": {
            "tags": []
          },
          "execution_count": 139
        }
      ]
    },
    {
      "cell_type": "code",
      "metadata": {
        "colab": {
          "base_uri": "https://localhost:8080/"
        },
        "id": "RVf3FSF8Z7E8",
        "outputId": "cbc8e235-5e9d-4023-89e2-84e32d312563"
      },
      "source": [
        "df_TPE['arrivalDate']= df_TPE['timeTableRows_actualTime'].apply(lambda x:x.date().strftime('%d/%m/%y'))\n"
      ],
      "execution_count": null,
      "outputs": [
        {
          "output_type": "stream",
          "text": [
            "/usr/local/lib/python3.7/dist-packages/ipykernel_launcher.py:1: SettingWithCopyWarning: \n",
            "A value is trying to be set on a copy of a slice from a DataFrame.\n",
            "Try using .loc[row_indexer,col_indexer] = value instead\n",
            "\n",
            "See the caveats in the documentation: https://pandas.pydata.org/pandas-docs/stable/user_guide/indexing.html#returning-a-view-versus-a-copy\n",
            "  \"\"\"Entry point for launching an IPython kernel.\n"
          ],
          "name": "stderr"
        }
      ]
    },
    {
      "cell_type": "code",
      "metadata": {
        "colab": {
          "base_uri": "https://localhost:8080/"
        },
        "id": "gh0M1JoVbx33",
        "outputId": "b3ed6938-945a-4f7e-9e34-1860948adfb1"
      },
      "source": [
        "df_TPE['arrivalTime']=df_TPE['timeTableRows_actualTime'].apply(lambda x:x.strftime('%H:%M'))"
      ],
      "execution_count": null,
      "outputs": [
        {
          "output_type": "stream",
          "text": [
            "/usr/local/lib/python3.7/dist-packages/ipykernel_launcher.py:1: SettingWithCopyWarning: \n",
            "A value is trying to be set on a copy of a slice from a DataFrame.\n",
            "Try using .loc[row_indexer,col_indexer] = value instead\n",
            "\n",
            "See the caveats in the documentation: https://pandas.pydata.org/pandas-docs/stable/user_guide/indexing.html#returning-a-view-versus-a-copy\n",
            "  \"\"\"Entry point for launching an IPython kernel.\n"
          ],
          "name": "stderr"
        }
      ]
    },
    {
      "cell_type": "code",
      "metadata": {
        "colab": {
          "base_uri": "https://localhost:8080/"
        },
        "id": "IWLLT8rGRKuy",
        "outputId": "dd94e3c8-38cd-4ebc-ba9a-34060d7c1e67"
      },
      "source": [
        "df_TPE['scheduledDate']= df_TPE['timeTableRows_scheduledTime'].apply(lambda x:x.date().strftime('%d/%m/%y'))"
      ],
      "execution_count": null,
      "outputs": [
        {
          "output_type": "stream",
          "text": [
            "/usr/local/lib/python3.7/dist-packages/ipykernel_launcher.py:1: SettingWithCopyWarning: \n",
            "A value is trying to be set on a copy of a slice from a DataFrame.\n",
            "Try using .loc[row_indexer,col_indexer] = value instead\n",
            "\n",
            "See the caveats in the documentation: https://pandas.pydata.org/pandas-docs/stable/user_guide/indexing.html#returning-a-view-versus-a-copy\n",
            "  \"\"\"Entry point for launching an IPython kernel.\n"
          ],
          "name": "stderr"
        }
      ]
    },
    {
      "cell_type": "code",
      "metadata": {
        "colab": {
          "base_uri": "https://localhost:8080/"
        },
        "id": "g1mOo1Q2RauX",
        "outputId": "e5c9d7dc-9d90-4e12-d688-d76b46834d11"
      },
      "source": [
        "df_TPE['scheduledTime']=df_TPE['timeTableRows_scheduledTime'].apply(lambda x:x.strftime('%H:%M'))"
      ],
      "execution_count": null,
      "outputs": [
        {
          "output_type": "stream",
          "text": [
            "/usr/local/lib/python3.7/dist-packages/ipykernel_launcher.py:1: SettingWithCopyWarning: \n",
            "A value is trying to be set on a copy of a slice from a DataFrame.\n",
            "Try using .loc[row_indexer,col_indexer] = value instead\n",
            "\n",
            "See the caveats in the documentation: https://pandas.pydata.org/pandas-docs/stable/user_guide/indexing.html#returning-a-view-versus-a-copy\n",
            "  \"\"\"Entry point for launching an IPython kernel.\n"
          ],
          "name": "stderr"
        }
      ]
    },
    {
      "cell_type": "code",
      "metadata": {
        "colab": {
          "base_uri": "https://localhost:8080/",
          "height": 224
        },
        "id": "fh4PIwvcdlHI",
        "outputId": "86a2ab2e-cbb9-46a4-98fa-f0bc17890199"
      },
      "source": [
        "df_TPE.head()"
      ],
      "execution_count": null,
      "outputs": [
        {
          "output_type": "execute_result",
          "data": {
            "text/html": [
              "<div>\n",
              "<style scoped>\n",
              "    .dataframe tbody tr th:only-of-type {\n",
              "        vertical-align: middle;\n",
              "    }\n",
              "\n",
              "    .dataframe tbody tr th {\n",
              "        vertical-align: top;\n",
              "    }\n",
              "\n",
              "    .dataframe thead th {\n",
              "        text-align: right;\n",
              "    }\n",
              "</style>\n",
              "<table border=\"1\" class=\"dataframe\">\n",
              "  <thead>\n",
              "    <tr style=\"text-align: right;\">\n",
              "      <th></th>\n",
              "      <th>cancelled</th>\n",
              "      <th>departureDate</th>\n",
              "      <th>trainNumber</th>\n",
              "      <th>trainType</th>\n",
              "      <th>timeTableRows_actualTime</th>\n",
              "      <th>timeTableRows_scheduledTime</th>\n",
              "      <th>timeTableRows_stationShortCode</th>\n",
              "      <th>timeTableRows_trainStopping</th>\n",
              "      <th>timeTableRows_type</th>\n",
              "      <th>arrivalDate</th>\n",
              "      <th>arrivalTime</th>\n",
              "      <th>scheduledDate</th>\n",
              "      <th>scheduledTime</th>\n",
              "    </tr>\n",
              "  </thead>\n",
              "  <tbody>\n",
              "    <tr>\n",
              "      <th>89</th>\n",
              "      <td>False</td>\n",
              "      <td>2020-01-01</td>\n",
              "      <td>27</td>\n",
              "      <td>IC</td>\n",
              "      <td>2020-01-01 13:57:01+00:00</td>\n",
              "      <td>2020-01-01 13:58:00+00:00</td>\n",
              "      <td>TPE</td>\n",
              "      <td>True</td>\n",
              "      <td>ARRIVAL</td>\n",
              "      <td>01/01/20</td>\n",
              "      <td>13:57</td>\n",
              "      <td>01/01/20</td>\n",
              "      <td>13:58</td>\n",
              "    </tr>\n",
              "    <tr>\n",
              "      <th>291</th>\n",
              "      <td>False</td>\n",
              "      <td>2020-01-02</td>\n",
              "      <td>27</td>\n",
              "      <td>IC</td>\n",
              "      <td>2020-01-02 14:04:54+00:00</td>\n",
              "      <td>2020-01-02 13:58:00+00:00</td>\n",
              "      <td>TPE</td>\n",
              "      <td>True</td>\n",
              "      <td>ARRIVAL</td>\n",
              "      <td>02/01/20</td>\n",
              "      <td>14:04</td>\n",
              "      <td>02/01/20</td>\n",
              "      <td>13:58</td>\n",
              "    </tr>\n",
              "    <tr>\n",
              "      <th>493</th>\n",
              "      <td>False</td>\n",
              "      <td>2020-01-03</td>\n",
              "      <td>27</td>\n",
              "      <td>IC</td>\n",
              "      <td>2020-01-03 13:57:10+00:00</td>\n",
              "      <td>2020-01-03 13:58:00+00:00</td>\n",
              "      <td>TPE</td>\n",
              "      <td>True</td>\n",
              "      <td>ARRIVAL</td>\n",
              "      <td>03/01/20</td>\n",
              "      <td>13:57</td>\n",
              "      <td>03/01/20</td>\n",
              "      <td>13:58</td>\n",
              "    </tr>\n",
              "    <tr>\n",
              "      <th>695</th>\n",
              "      <td>False</td>\n",
              "      <td>2020-01-04</td>\n",
              "      <td>27</td>\n",
              "      <td>IC</td>\n",
              "      <td>2020-01-04 14:06:17+00:00</td>\n",
              "      <td>2020-01-04 13:58:00+00:00</td>\n",
              "      <td>TPE</td>\n",
              "      <td>True</td>\n",
              "      <td>ARRIVAL</td>\n",
              "      <td>04/01/20</td>\n",
              "      <td>14:06</td>\n",
              "      <td>04/01/20</td>\n",
              "      <td>13:58</td>\n",
              "    </tr>\n",
              "    <tr>\n",
              "      <th>897</th>\n",
              "      <td>False</td>\n",
              "      <td>2020-01-05</td>\n",
              "      <td>27</td>\n",
              "      <td>IC</td>\n",
              "      <td>2020-01-05 13:56:47+00:00</td>\n",
              "      <td>2020-01-05 13:58:00+00:00</td>\n",
              "      <td>TPE</td>\n",
              "      <td>True</td>\n",
              "      <td>ARRIVAL</td>\n",
              "      <td>05/01/20</td>\n",
              "      <td>13:56</td>\n",
              "      <td>05/01/20</td>\n",
              "      <td>13:58</td>\n",
              "    </tr>\n",
              "  </tbody>\n",
              "</table>\n",
              "</div>"
            ],
            "text/plain": [
              "     cancelled departureDate  ...  scheduledDate scheduledTime\n",
              "89       False    2020-01-01  ...       01/01/20         13:58\n",
              "291      False    2020-01-02  ...       02/01/20         13:58\n",
              "493      False    2020-01-03  ...       03/01/20         13:58\n",
              "695      False    2020-01-04  ...       04/01/20         13:58\n",
              "897      False    2020-01-05  ...       05/01/20         13:58\n",
              "\n",
              "[5 rows x 13 columns]"
            ]
          },
          "metadata": {
            "tags": []
          },
          "execution_count": 144
        }
      ]
    },
    {
      "cell_type": "code",
      "metadata": {
        "colab": {
          "base_uri": "https://localhost:8080/",
          "height": 204
        },
        "id": "u_PMxJa5azlS",
        "outputId": "a5d748c1-3f93-4248-9f9b-4df3b697cae6"
      },
      "source": [
        "df_TPE_clean=df_TPE.copy()\n",
        "df_TPE_clean=df_TPE_clean.drop(['scheduledDate','scheduledTime','cancelled','departureDate','trainNumber','trainType','timeTableRows_actualTime','timeTableRows_scheduledTime','timeTableRows_stationShortCode','timeTableRows_trainStopping','timeTableRows_type'],axis=1)\n",
        "df_TPE_clean.reset_index(drop=True)\n",
        "df_TPE_clean.head()"
      ],
      "execution_count": null,
      "outputs": [
        {
          "output_type": "execute_result",
          "data": {
            "text/html": [
              "<div>\n",
              "<style scoped>\n",
              "    .dataframe tbody tr th:only-of-type {\n",
              "        vertical-align: middle;\n",
              "    }\n",
              "\n",
              "    .dataframe tbody tr th {\n",
              "        vertical-align: top;\n",
              "    }\n",
              "\n",
              "    .dataframe thead th {\n",
              "        text-align: right;\n",
              "    }\n",
              "</style>\n",
              "<table border=\"1\" class=\"dataframe\">\n",
              "  <thead>\n",
              "    <tr style=\"text-align: right;\">\n",
              "      <th></th>\n",
              "      <th>arrivalDate</th>\n",
              "      <th>arrivalTime</th>\n",
              "    </tr>\n",
              "  </thead>\n",
              "  <tbody>\n",
              "    <tr>\n",
              "      <th>89</th>\n",
              "      <td>01/01/20</td>\n",
              "      <td>13:57</td>\n",
              "    </tr>\n",
              "    <tr>\n",
              "      <th>291</th>\n",
              "      <td>02/01/20</td>\n",
              "      <td>14:04</td>\n",
              "    </tr>\n",
              "    <tr>\n",
              "      <th>493</th>\n",
              "      <td>03/01/20</td>\n",
              "      <td>13:57</td>\n",
              "    </tr>\n",
              "    <tr>\n",
              "      <th>695</th>\n",
              "      <td>04/01/20</td>\n",
              "      <td>14:06</td>\n",
              "    </tr>\n",
              "    <tr>\n",
              "      <th>897</th>\n",
              "      <td>05/01/20</td>\n",
              "      <td>13:56</td>\n",
              "    </tr>\n",
              "  </tbody>\n",
              "</table>\n",
              "</div>"
            ],
            "text/plain": [
              "    arrivalDate arrivalTime\n",
              "89     01/01/20       13:57\n",
              "291    02/01/20       14:04\n",
              "493    03/01/20       13:57\n",
              "695    04/01/20       14:06\n",
              "897    05/01/20       13:56"
            ]
          },
          "metadata": {
            "tags": []
          },
          "execution_count": 145
        }
      ]
    },
    {
      "cell_type": "markdown",
      "metadata": {
        "id": "_IodkN1llppp"
      },
      "source": [
        "## Adding DayOfWeek column into the dataframe as commuter is looking for train on Thursday."
      ]
    },
    {
      "cell_type": "code",
      "metadata": {
        "colab": {
          "base_uri": "https://localhost:8080/"
        },
        "id": "8jjT0RjMn1KL",
        "outputId": "3d5c7718-cc28-41d7-8f74-2d668f8765f8"
      },
      "source": [
        "df_TPE_clean.dtypes"
      ],
      "execution_count": null,
      "outputs": [
        {
          "output_type": "execute_result",
          "data": {
            "text/plain": [
              "arrivalDate    object\n",
              "arrivalTime    object\n",
              "dtype: object"
            ]
          },
          "metadata": {
            "tags": []
          },
          "execution_count": 146
        }
      ]
    },
    {
      "cell_type": "code",
      "metadata": {
        "colab": {
          "base_uri": "https://localhost:8080/",
          "height": 204
        },
        "id": "DFEDdAtlUyXU",
        "outputId": "b8ca0ae1-db32-44cb-ec51-5c377e7f1817"
      },
      "source": [
        "df_TPE_clean['arrivalDate']=pd.to_datetime(df_TPE_clean['arrivalDate'])\n",
        "df_TPE_clean['arrivalTime']=pd.to_datetime(df_TPE_clean['arrivalTime']).dt.time\n",
        "df_TPE_clean['dayOfWeek']=df_TPE_clean['arrivalDate'].dt.day_name()\n",
        "df_TPE_clean.head()\n"
      ],
      "execution_count": null,
      "outputs": [
        {
          "output_type": "execute_result",
          "data": {
            "text/html": [
              "<div>\n",
              "<style scoped>\n",
              "    .dataframe tbody tr th:only-of-type {\n",
              "        vertical-align: middle;\n",
              "    }\n",
              "\n",
              "    .dataframe tbody tr th {\n",
              "        vertical-align: top;\n",
              "    }\n",
              "\n",
              "    .dataframe thead th {\n",
              "        text-align: right;\n",
              "    }\n",
              "</style>\n",
              "<table border=\"1\" class=\"dataframe\">\n",
              "  <thead>\n",
              "    <tr style=\"text-align: right;\">\n",
              "      <th></th>\n",
              "      <th>arrivalDate</th>\n",
              "      <th>arrivalTime</th>\n",
              "      <th>dayOfWeek</th>\n",
              "    </tr>\n",
              "  </thead>\n",
              "  <tbody>\n",
              "    <tr>\n",
              "      <th>89</th>\n",
              "      <td>2020-01-01</td>\n",
              "      <td>13:57:00</td>\n",
              "      <td>Wednesday</td>\n",
              "    </tr>\n",
              "    <tr>\n",
              "      <th>291</th>\n",
              "      <td>2020-02-01</td>\n",
              "      <td>14:04:00</td>\n",
              "      <td>Saturday</td>\n",
              "    </tr>\n",
              "    <tr>\n",
              "      <th>493</th>\n",
              "      <td>2020-03-01</td>\n",
              "      <td>13:57:00</td>\n",
              "      <td>Sunday</td>\n",
              "    </tr>\n",
              "    <tr>\n",
              "      <th>695</th>\n",
              "      <td>2020-04-01</td>\n",
              "      <td>14:06:00</td>\n",
              "      <td>Wednesday</td>\n",
              "    </tr>\n",
              "    <tr>\n",
              "      <th>897</th>\n",
              "      <td>2020-05-01</td>\n",
              "      <td>13:56:00</td>\n",
              "      <td>Friday</td>\n",
              "    </tr>\n",
              "  </tbody>\n",
              "</table>\n",
              "</div>"
            ],
            "text/plain": [
              "    arrivalDate arrivalTime  dayOfWeek\n",
              "89   2020-01-01    13:57:00  Wednesday\n",
              "291  2020-02-01    14:04:00   Saturday\n",
              "493  2020-03-01    13:57:00     Sunday\n",
              "695  2020-04-01    14:06:00  Wednesday\n",
              "897  2020-05-01    13:56:00     Friday"
            ]
          },
          "metadata": {
            "tags": []
          },
          "execution_count": 147
        }
      ]
    },
    {
      "cell_type": "code",
      "metadata": {
        "colab": {
          "base_uri": "https://localhost:8080/"
        },
        "id": "gE0xTzrrsVFP",
        "outputId": "eb85b26d-0876-476c-fe2f-16ca59e42abb"
      },
      "source": [
        "df_TPE_clean.dtypes"
      ],
      "execution_count": null,
      "outputs": [
        {
          "output_type": "execute_result",
          "data": {
            "text/plain": [
              "arrivalDate    datetime64[ns]\n",
              "arrivalTime            object\n",
              "dayOfWeek              object\n",
              "dtype: object"
            ]
          },
          "metadata": {
            "tags": []
          },
          "execution_count": 148
        }
      ]
    },
    {
      "cell_type": "code",
      "metadata": {
        "colab": {
          "base_uri": "https://localhost:8080/",
          "height": 359
        },
        "id": "bZLl0ipbmmC2",
        "outputId": "97a6a207-0e62-42c9-d987-7138cc7c5444"
      },
      "source": [
        "#Taking data of only Thursday\n",
        "df_thur= df_TPE_clean.loc[(df_TPE_clean['dayOfWeek']=='Thursday')]\n",
        "df_thur\n"
      ],
      "execution_count": null,
      "outputs": [
        {
          "output_type": "execute_result",
          "data": {
            "text/html": [
              "<div>\n",
              "<style scoped>\n",
              "    .dataframe tbody tr th:only-of-type {\n",
              "        vertical-align: middle;\n",
              "    }\n",
              "\n",
              "    .dataframe tbody tr th {\n",
              "        vertical-align: top;\n",
              "    }\n",
              "\n",
              "    .dataframe thead th {\n",
              "        text-align: right;\n",
              "    }\n",
              "</style>\n",
              "<table border=\"1\" class=\"dataframe\">\n",
              "  <thead>\n",
              "    <tr style=\"text-align: right;\">\n",
              "      <th></th>\n",
              "      <th>arrivalDate</th>\n",
              "      <th>arrivalTime</th>\n",
              "      <th>dayOfWeek</th>\n",
              "    </tr>\n",
              "  </thead>\n",
              "  <tbody>\n",
              "    <tr>\n",
              "      <th>1907</th>\n",
              "      <td>2020-10-01</td>\n",
              "      <td>13:55:00</td>\n",
              "      <td>Thursday</td>\n",
              "    </tr>\n",
              "    <tr>\n",
              "      <th>3119</th>\n",
              "      <td>2020-01-16</td>\n",
              "      <td>13:57:00</td>\n",
              "      <td>Thursday</td>\n",
              "    </tr>\n",
              "    <tr>\n",
              "      <th>4533</th>\n",
              "      <td>2020-01-23</td>\n",
              "      <td>14:04:00</td>\n",
              "      <td>Thursday</td>\n",
              "    </tr>\n",
              "    <tr>\n",
              "      <th>5947</th>\n",
              "      <td>2020-01-30</td>\n",
              "      <td>14:01:00</td>\n",
              "      <td>Thursday</td>\n",
              "    </tr>\n",
              "    <tr>\n",
              "      <th>6351</th>\n",
              "      <td>2020-01-02</td>\n",
              "      <td>14:02:00</td>\n",
              "      <td>Thursday</td>\n",
              "    </tr>\n",
              "    <tr>\n",
              "      <th>6957</th>\n",
              "      <td>2020-04-02</td>\n",
              "      <td>13:55:00</td>\n",
              "      <td>Thursday</td>\n",
              "    </tr>\n",
              "    <tr>\n",
              "      <th>7563</th>\n",
              "      <td>2020-07-02</td>\n",
              "      <td>14:03:00</td>\n",
              "      <td>Thursday</td>\n",
              "    </tr>\n",
              "    <tr>\n",
              "      <th>8775</th>\n",
              "      <td>2020-02-13</td>\n",
              "      <td>13:59:00</td>\n",
              "      <td>Thursday</td>\n",
              "    </tr>\n",
              "    <tr>\n",
              "      <th>10189</th>\n",
              "      <td>2020-02-20</td>\n",
              "      <td>13:59:00</td>\n",
              "      <td>Thursday</td>\n",
              "    </tr>\n",
              "    <tr>\n",
              "      <th>11603</th>\n",
              "      <td>2020-02-27</td>\n",
              "      <td>13:57:00</td>\n",
              "      <td>Thursday</td>\n",
              "    </tr>\n",
              "  </tbody>\n",
              "</table>\n",
              "</div>"
            ],
            "text/plain": [
              "      arrivalDate arrivalTime dayOfWeek\n",
              "1907   2020-10-01    13:55:00  Thursday\n",
              "3119   2020-01-16    13:57:00  Thursday\n",
              "4533   2020-01-23    14:04:00  Thursday\n",
              "5947   2020-01-30    14:01:00  Thursday\n",
              "6351   2020-01-02    14:02:00  Thursday\n",
              "6957   2020-04-02    13:55:00  Thursday\n",
              "7563   2020-07-02    14:03:00  Thursday\n",
              "8775   2020-02-13    13:59:00  Thursday\n",
              "10189  2020-02-20    13:59:00  Thursday\n",
              "11603  2020-02-27    13:57:00  Thursday"
            ]
          },
          "metadata": {
            "tags": []
          },
          "execution_count": 149
        }
      ]
    },
    {
      "cell_type": "code",
      "metadata": {
        "colab": {
          "base_uri": "https://localhost:8080/"
        },
        "id": "bzPdrOXkJLNZ",
        "outputId": "56829d4d-bd22-4adc-ecc8-516037f7b53e"
      },
      "source": [
        "df_thur.dtypes"
      ],
      "execution_count": null,
      "outputs": [
        {
          "output_type": "execute_result",
          "data": {
            "text/plain": [
              "arrivalDate    datetime64[ns]\n",
              "arrivalTime            object\n",
              "dayOfWeek              object\n",
              "dtype: object"
            ]
          },
          "metadata": {
            "tags": []
          },
          "execution_count": 80
        }
      ]
    },
    {
      "cell_type": "markdown",
      "metadata": {
        "id": "oiMKco1DaTPR"
      },
      "source": [
        "## Mean value of arrival time of train at Tampere station"
      ]
    },
    {
      "cell_type": "code",
      "metadata": {
        "id": "nmdCuvVJVStd"
      },
      "source": [
        "'''\n",
        "def avg_time(times):\n",
        "    avg = 0\n",
        "    for elem in times:\n",
        "        avg += elem.dt.second + 60*elem.dt.minute + 3600*elem.dt.hour\n",
        "    avg /= len(times)\n",
        "    rez = str(avg/3600) + ' ' + str((avg%3600)/60) + ' ' + str(avg%60)\n",
        "    return dtm.datetime.strptime(rez, \"%H %M %S\")\n",
        "    '''"
      ],
      "execution_count": null,
      "outputs": []
    },
    {
      "cell_type": "code",
      "metadata": {
        "colab": {
          "base_uri": "https://localhost:8080/"
        },
        "id": "gvvhT3IoSI23",
        "outputId": "a4505d7e-0c92-4ffb-bd83-eda07427cfa5"
      },
      "source": [
        "#First converting the pandas.Series to datetime inorder to compute the mean\n",
        "df_thur['arrivalTime']=pd.to_datetime(df_thur.arrivalTime, format='%H:%M:%S');\n",
        "\n",
        "\n",
        "#hours=  pd.DataFrame({'time': [pd.to_datetime(df_thur['arrivalTime'])]})\n",
        "#%timeit pd.to_timedelta(int((mean.hour*3600+mean.minute*60+mean.second).mean()),unit='s')"
      ],
      "execution_count": null,
      "outputs": [
        {
          "output_type": "stream",
          "text": [
            "/usr/local/lib/python3.7/dist-packages/ipykernel_launcher.py:2: SettingWithCopyWarning: \n",
            "A value is trying to be set on a copy of a slice from a DataFrame.\n",
            "Try using .loc[row_indexer,col_indexer] = value instead\n",
            "\n",
            "See the caveats in the documentation: https://pandas.pydata.org/pandas-docs/stable/user_guide/indexing.html#returning-a-view-versus-a-copy\n",
            "  \n"
          ],
          "name": "stderr"
        }
      ]
    },
    {
      "cell_type": "code",
      "metadata": {
        "colab": {
          "base_uri": "https://localhost:8080/"
        },
        "id": "LKMY4tf5WvKp",
        "outputId": "e4fb0118-b746-4fb9-8229-a9d114d4cb84"
      },
      "source": [
        "avg = df_thur['arrivalTime']\n",
        "mean_of_hours= pd.to_timedelta(int((avg.dt.hour *3600 + avg.dt.minute*60+avg.dt.second).mean()),unit='s')\n",
        "print(\"\\n The average of Arrival time of train at Tampere station is {}\".format(mean_of_hours))"
      ],
      "execution_count": null,
      "outputs": [
        {
          "output_type": "stream",
          "text": [
            "\n",
            " The average of Arrival time of train at Tampere station is 0 days 13:59:12\n"
          ],
          "name": "stdout"
        }
      ]
    },
    {
      "cell_type": "markdown",
      "metadata": {
        "id": "JwCcpusJbPPB"
      },
      "source": [
        "***The above finding rules out, if the person is planning to reach Tampere at 1600 then he/she has to leave quite early, Additionally, the person will also end up waiting at Tampere due to early arrival***"
      ]
    },
    {
      "cell_type": "code",
      "metadata": {
        "colab": {
          "base_uri": "https://localhost:8080/",
          "height": 458
        },
        "id": "580CA9_arBXP",
        "outputId": "363a6bc1-201c-460d-e003-68c3685300f7"
      },
      "source": [
        "plt.figure(figsize=(10, 6))\n",
        "plt.title(\"Train frequency weekly in the year\")\n",
        "day_order=['Sunday', 'Monday','Tuesday','Wednesday','Thursday','Friday','Saturday','Sunday']\n",
        "sns.countplot(df_TPE_clean['dayOfWeek'], order=day_order);"
      ],
      "execution_count": null,
      "outputs": [
        {
          "output_type": "stream",
          "text": [
            "/usr/local/lib/python3.7/dist-packages/seaborn/_decorators.py:43: FutureWarning: Pass the following variable as a keyword arg: x. From version 0.12, the only valid positional argument will be `data`, and passing other arguments without an explicit keyword will result in an error or misinterpretation.\n",
            "  FutureWarning\n"
          ],
          "name": "stderr"
        },
        {
          "output_type": "display_data",
          "data": {
            "image/png": "[encoded data removed]",
            "text/plain": [
              "<Figure size 720x432 with 1 Axes>"
            ]
          },
          "metadata": {
            "tags": [],
            "needs_background": "light"
          }
        }
      ]
    },
    {
      "cell_type": "markdown",
      "metadata": {
        "id": "rPd80RnHrywA"
      },
      "source": [
        "**The above plot shows that there were more train arrival on Wednesdays and Thursdays at Tampere station**\n",
        "\n",
        "\n"
      ]
    },
    {
      "cell_type": "markdown",
      "metadata": {
        "id": "oXvd64mXAzXU"
      },
      "source": [
        "## Checking unique observations of Days, Month"
      ]
    },
    {
      "cell_type": "code",
      "metadata": {
        "colab": {
          "base_uri": "https://localhost:8080/",
          "height": 204
        },
        "id": "5i5kZ1K7_QXR",
        "outputId": "82c265e4-d7c4-4069-b31b-eb8e31aa633b"
      },
      "source": [
        "df_TPE_clean.head()"
      ],
      "execution_count": null,
      "outputs": [
        {
          "output_type": "execute_result",
          "data": {
            "text/html": [
              "<div>\n",
              "<style scoped>\n",
              "    .dataframe tbody tr th:only-of-type {\n",
              "        vertical-align: middle;\n",
              "    }\n",
              "\n",
              "    .dataframe tbody tr th {\n",
              "        vertical-align: top;\n",
              "    }\n",
              "\n",
              "    .dataframe thead th {\n",
              "        text-align: right;\n",
              "    }\n",
              "</style>\n",
              "<table border=\"1\" class=\"dataframe\">\n",
              "  <thead>\n",
              "    <tr style=\"text-align: right;\">\n",
              "      <th></th>\n",
              "      <th>arrivalDate</th>\n",
              "      <th>arrivalTime</th>\n",
              "      <th>dayOfWeek</th>\n",
              "    </tr>\n",
              "  </thead>\n",
              "  <tbody>\n",
              "    <tr>\n",
              "      <th>89</th>\n",
              "      <td>2020-01-01</td>\n",
              "      <td>13:57:00</td>\n",
              "      <td>Wednesday</td>\n",
              "    </tr>\n",
              "    <tr>\n",
              "      <th>291</th>\n",
              "      <td>2020-02-01</td>\n",
              "      <td>14:04:00</td>\n",
              "      <td>Saturday</td>\n",
              "    </tr>\n",
              "    <tr>\n",
              "      <th>493</th>\n",
              "      <td>2020-03-01</td>\n",
              "      <td>13:57:00</td>\n",
              "      <td>Sunday</td>\n",
              "    </tr>\n",
              "    <tr>\n",
              "      <th>695</th>\n",
              "      <td>2020-04-01</td>\n",
              "      <td>14:06:00</td>\n",
              "      <td>Wednesday</td>\n",
              "    </tr>\n",
              "    <tr>\n",
              "      <th>897</th>\n",
              "      <td>2020-05-01</td>\n",
              "      <td>13:56:00</td>\n",
              "      <td>Friday</td>\n",
              "    </tr>\n",
              "  </tbody>\n",
              "</table>\n",
              "</div>"
            ],
            "text/plain": [
              "    arrivalDate arrivalTime  dayOfWeek\n",
              "89   2020-01-01    13:57:00  Wednesday\n",
              "291  2020-02-01    14:04:00   Saturday\n",
              "493  2020-03-01    13:57:00     Sunday\n",
              "695  2020-04-01    14:06:00  Wednesday\n",
              "897  2020-05-01    13:56:00     Friday"
            ]
          },
          "metadata": {
            "tags": []
          },
          "execution_count": 119
        }
      ]
    },
    {
      "cell_type": "code",
      "metadata": {
        "colab": {
          "base_uri": "https://localhost:8080/",
          "height": 204
        },
        "id": "A-BHuPL1_Wjz",
        "outputId": "6ad50390-cffc-406e-c429-88c25f5a810c"
      },
      "source": [
        "try:\n",
        "  df_TPE_clean['month']=df_TPE_clean.arrivalDate.dt.month\n",
        "  df_TPE_clean['day']=df_TPE_clean.arrivalDate.dt.day\n",
        "  df_TPE_clean['year']= df_TPE_clean.arrivalDate.dt.year\n",
        "except:\n",
        "  print(\"new columns are created\")\n",
        "df_TPE_clean.head()"
      ],
      "execution_count": null,
      "outputs": [
        {
          "output_type": "execute_result",
          "data": {
            "text/html": [
              "<div>\n",
              "<style scoped>\n",
              "    .dataframe tbody tr th:only-of-type {\n",
              "        vertical-align: middle;\n",
              "    }\n",
              "\n",
              "    .dataframe tbody tr th {\n",
              "        vertical-align: top;\n",
              "    }\n",
              "\n",
              "    .dataframe thead th {\n",
              "        text-align: right;\n",
              "    }\n",
              "</style>\n",
              "<table border=\"1\" class=\"dataframe\">\n",
              "  <thead>\n",
              "    <tr style=\"text-align: right;\">\n",
              "      <th></th>\n",
              "      <th>arrivalDate</th>\n",
              "      <th>arrivalTime</th>\n",
              "      <th>dayOfWeek</th>\n",
              "      <th>month</th>\n",
              "      <th>day</th>\n",
              "      <th>year</th>\n",
              "    </tr>\n",
              "  </thead>\n",
              "  <tbody>\n",
              "    <tr>\n",
              "      <th>89</th>\n",
              "      <td>2020-01-01</td>\n",
              "      <td>13:57:00</td>\n",
              "      <td>Wednesday</td>\n",
              "      <td>1</td>\n",
              "      <td>1</td>\n",
              "      <td>2020</td>\n",
              "    </tr>\n",
              "    <tr>\n",
              "      <th>291</th>\n",
              "      <td>2020-02-01</td>\n",
              "      <td>14:04:00</td>\n",
              "      <td>Saturday</td>\n",
              "      <td>2</td>\n",
              "      <td>1</td>\n",
              "      <td>2020</td>\n",
              "    </tr>\n",
              "    <tr>\n",
              "      <th>493</th>\n",
              "      <td>2020-03-01</td>\n",
              "      <td>13:57:00</td>\n",
              "      <td>Sunday</td>\n",
              "      <td>3</td>\n",
              "      <td>1</td>\n",
              "      <td>2020</td>\n",
              "    </tr>\n",
              "    <tr>\n",
              "      <th>695</th>\n",
              "      <td>2020-04-01</td>\n",
              "      <td>14:06:00</td>\n",
              "      <td>Wednesday</td>\n",
              "      <td>4</td>\n",
              "      <td>1</td>\n",
              "      <td>2020</td>\n",
              "    </tr>\n",
              "    <tr>\n",
              "      <th>897</th>\n",
              "      <td>2020-05-01</td>\n",
              "      <td>13:56:00</td>\n",
              "      <td>Friday</td>\n",
              "      <td>5</td>\n",
              "      <td>1</td>\n",
              "      <td>2020</td>\n",
              "    </tr>\n",
              "  </tbody>\n",
              "</table>\n",
              "</div>"
            ],
            "text/plain": [
              "    arrivalDate arrivalTime  dayOfWeek  month  day  year\n",
              "89   2020-01-01    13:57:00  Wednesday      1    1  2020\n",
              "291  2020-02-01    14:04:00   Saturday      2    1  2020\n",
              "493  2020-03-01    13:57:00     Sunday      3    1  2020\n",
              "695  2020-04-01    14:06:00  Wednesday      4    1  2020\n",
              "897  2020-05-01    13:56:00     Friday      5    1  2020"
            ]
          },
          "metadata": {
            "tags": []
          },
          "execution_count": 155
        }
      ]
    },
    {
      "cell_type": "code",
      "metadata": {
        "colab": {
          "base_uri": "https://localhost:8080/"
        },
        "id": "FxeQMmmyAyhh",
        "outputId": "4ab1c204-63a5-4f32-f3a9-2f7d821b7c22"
      },
      "source": [
        "print(\"Days of observation   : \",sorted(df_TPE_clean['day'].unique()))\n",
        "print(\"Days of observation   : \",sorted(df_TPE_clean['month'].unique()))"
      ],
      "execution_count": null,
      "outputs": [
        {
          "output_type": "stream",
          "text": [
            "Days of observation   :  [1, 2, 13, 14, 15, 16, 17, 18, 19, 20, 21, 22, 23, 24, 25, 26, 27, 28, 29, 30, 31]\n",
            "Days of observation   :  [1, 2, 3, 4, 5, 6, 7, 8, 9, 10, 11, 12]\n"
          ],
          "name": "stdout"
        }
      ]
    },
    {
      "cell_type": "markdown",
      "metadata": {
        "id": "_oafb7oNBRTQ"
      },
      "source": [
        "**The above result shows that not everyday the train run to station Tampere as there is no data between** *3-12* days"
      ]
    },
    {
      "cell_type": "markdown",
      "metadata": {
        "id": "beussLxKDMp8"
      },
      "source": [
        "## Train Schedules in the year (month wise) "
      ]
    },
    {
      "cell_type": "code",
      "metadata": {
        "colab": {
          "base_uri": "https://localhost:8080/",
          "height": 458
        },
        "id": "CNqjHoQUCY_B",
        "outputId": "9c5662fd-955c-4980-b6ad-376567afcb39"
      },
      "source": [
        "plt.figure(figsize=(10, 6))\n",
        "plt.title(\"Train schedules throughout the year\")\n",
        "sns.scatterplot(df_TPE_clean['month'],df_TPE_clean['day']);"
      ],
      "execution_count": null,
      "outputs": [
        {
          "output_type": "stream",
          "text": [
            "/usr/local/lib/python3.7/dist-packages/seaborn/_decorators.py:43: FutureWarning: Pass the following variables as keyword args: x, y. From version 0.12, the only valid positional argument will be `data`, and passing other arguments without an explicit keyword will result in an error or misinterpretation.\n",
            "  FutureWarning\n"
          ],
          "name": "stderr"
        },
        {
          "output_type": "display_data",
          "data": {
            "image/png": "[encoded data removed]",
            "text/plain": [
              "<Figure size 720x432 with 1 Axes>"
            ]
          },
          "metadata": {
            "tags": [],
            "needs_background": "light"
          }
        }
      ]
    },
    {
      "cell_type": "markdown",
      "metadata": {
        "id": "ZJDkt8QkDJaB"
      },
      "source": [
        "**The above plot shows that not all days inside the month train was running to Tampere**"
      ]
    },
    {
      "cell_type": "markdown",
      "metadata": {
        "id": "aE3e283I8ZgA"
      },
      "source": [
        "## Question  \n",
        "If there is time, write down in a few sentences how otherwise the open data provided by\n",
        "the Finnish Transport Agency could be used to promote to bring business value: what are\n",
        "the possibilities to use the data, what is good about it and what could be the problems?"
      ]
    },
    {
      "cell_type": "markdown",
      "metadata": {
        "id": "H99ZFdi68gXl"
      },
      "source": [
        "1.  Finnish Transport Agency open data can be used in many businesses form; a data engine tool can be built using the machine learning model which could bring out the prediction model if the train will be late or not. All possible models can be built defining the business objectives around the data.\n",
        "2. This data will also be helpful in planning the trains --> for e.g. through this data, Finnish Tramsport agency can check the demand and supply ratio, meaning if particular routes need more trains or not.\n",
        "2. In above plots we saw that there were trains missing on many days in the month. It would be nice to analyze the demands of these trains by demand requests.  \n",
        "3. Additionally, the system can be moved to cloud analytics, and through this they can receive alerts on trains being late than some threshold which will also help them to take immediate actions.\n",
        ". The Swagger tool has very minimum end point testing --> for e.g. if I want \n",
        "to extract the data from *start_date* to *end_date*. There is no possiblity as such.\n",
        "3. Addition to this, the documentation provided inside insn't so informative."
      ]
    }
  ]
}